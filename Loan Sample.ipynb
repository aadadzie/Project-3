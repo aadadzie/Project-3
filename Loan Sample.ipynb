{
 "cells": [
  {
   "cell_type": "code",
   "execution_count": 1,
   "metadata": {},
   "outputs": [],
   "source": [
    "%matplotlib inline\n",
    "import pandas as pd\n",
    "import matplotlib.pyplot as plt\n",
    "import numpy as np\n",
    "import seaborn as sns\n",
    "from sklearn.linear_model import LogisticRegression \n",
    "from sklearn.svm import SVC\n",
    "from sklearn.ensemble import RandomForestClassifier\n",
    "plt.style.use('fivethirtyeight')\n",
    "import warnings\n",
    "warnings.filterwarnings('ignore')\n",
    "import missingno as msno\n",
    "from sklearn.model_selection import train_test_split\n",
    "from sklearn import metrics"
   ]
  },
  {
   "cell_type": "code",
   "execution_count": 2,
   "metadata": {},
   "outputs": [
    {
     "data": {
      "text/html": [
       "<div>\n",
       "<style scoped>\n",
       "    .dataframe tbody tr th:only-of-type {\n",
       "        vertical-align: middle;\n",
       "    }\n",
       "\n",
       "    .dataframe tbody tr th {\n",
       "        vertical-align: top;\n",
       "    }\n",
       "\n",
       "    .dataframe thead th {\n",
       "        text-align: right;\n",
       "    }\n",
       "</style>\n",
       "<table border=\"1\" class=\"dataframe\">\n",
       "  <thead>\n",
       "    <tr style=\"text-align: right;\">\n",
       "      <th></th>\n",
       "      <th>id</th>\n",
       "      <th>member_id</th>\n",
       "      <th>loan_amnt</th>\n",
       "      <th>funded_amnt</th>\n",
       "      <th>funded_amnt_inv</th>\n",
       "      <th>term</th>\n",
       "      <th>int_rate</th>\n",
       "      <th>installment</th>\n",
       "      <th>grade</th>\n",
       "      <th>sub_grade</th>\n",
       "      <th>...</th>\n",
       "      <th>hardship_payoff_balance_amount</th>\n",
       "      <th>hardship_last_payment_amount</th>\n",
       "      <th>disbursement_method</th>\n",
       "      <th>debt_settlement_flag</th>\n",
       "      <th>debt_settlement_flag_date</th>\n",
       "      <th>settlement_status</th>\n",
       "      <th>settlement_date</th>\n",
       "      <th>settlement_amount</th>\n",
       "      <th>settlement_percentage</th>\n",
       "      <th>settlement_term</th>\n",
       "    </tr>\n",
       "  </thead>\n",
       "  <tbody>\n",
       "    <tr>\n",
       "      <td>0</td>\n",
       "      <td>NaN</td>\n",
       "      <td>NaN</td>\n",
       "      <td>22000</td>\n",
       "      <td>22000</td>\n",
       "      <td>22000.0</td>\n",
       "      <td>36 months</td>\n",
       "      <td>9.17</td>\n",
       "      <td>701.34</td>\n",
       "      <td>B</td>\n",
       "      <td>B2</td>\n",
       "      <td>...</td>\n",
       "      <td>NaN</td>\n",
       "      <td>NaN</td>\n",
       "      <td>Cash</td>\n",
       "      <td>N</td>\n",
       "      <td>NaN</td>\n",
       "      <td>NaN</td>\n",
       "      <td>NaN</td>\n",
       "      <td>NaN</td>\n",
       "      <td>NaN</td>\n",
       "      <td>NaN</td>\n",
       "    </tr>\n",
       "    <tr>\n",
       "      <td>1</td>\n",
       "      <td>NaN</td>\n",
       "      <td>NaN</td>\n",
       "      <td>8000</td>\n",
       "      <td>8000</td>\n",
       "      <td>8000.0</td>\n",
       "      <td>36 months</td>\n",
       "      <td>5.32</td>\n",
       "      <td>240.92</td>\n",
       "      <td>A</td>\n",
       "      <td>A1</td>\n",
       "      <td>...</td>\n",
       "      <td>NaN</td>\n",
       "      <td>NaN</td>\n",
       "      <td>Cash</td>\n",
       "      <td>N</td>\n",
       "      <td>NaN</td>\n",
       "      <td>NaN</td>\n",
       "      <td>NaN</td>\n",
       "      <td>NaN</td>\n",
       "      <td>NaN</td>\n",
       "      <td>NaN</td>\n",
       "    </tr>\n",
       "    <tr>\n",
       "      <td>2</td>\n",
       "      <td>NaN</td>\n",
       "      <td>NaN</td>\n",
       "      <td>6000</td>\n",
       "      <td>6000</td>\n",
       "      <td>6000.0</td>\n",
       "      <td>36 months</td>\n",
       "      <td>9.75</td>\n",
       "      <td>192.90</td>\n",
       "      <td>B</td>\n",
       "      <td>B3</td>\n",
       "      <td>...</td>\n",
       "      <td>NaN</td>\n",
       "      <td>NaN</td>\n",
       "      <td>Cash</td>\n",
       "      <td>N</td>\n",
       "      <td>NaN</td>\n",
       "      <td>NaN</td>\n",
       "      <td>NaN</td>\n",
       "      <td>NaN</td>\n",
       "      <td>NaN</td>\n",
       "      <td>NaN</td>\n",
       "    </tr>\n",
       "    <tr>\n",
       "      <td>3</td>\n",
       "      <td>NaN</td>\n",
       "      <td>NaN</td>\n",
       "      <td>5300</td>\n",
       "      <td>5300</td>\n",
       "      <td>5300.0</td>\n",
       "      <td>36 months</td>\n",
       "      <td>12.39</td>\n",
       "      <td>177.03</td>\n",
       "      <td>C</td>\n",
       "      <td>C1</td>\n",
       "      <td>...</td>\n",
       "      <td>NaN</td>\n",
       "      <td>NaN</td>\n",
       "      <td>Cash</td>\n",
       "      <td>N</td>\n",
       "      <td>NaN</td>\n",
       "      <td>NaN</td>\n",
       "      <td>NaN</td>\n",
       "      <td>NaN</td>\n",
       "      <td>NaN</td>\n",
       "      <td>NaN</td>\n",
       "    </tr>\n",
       "    <tr>\n",
       "      <td>4</td>\n",
       "      <td>NaN</td>\n",
       "      <td>NaN</td>\n",
       "      <td>8000</td>\n",
       "      <td>8000</td>\n",
       "      <td>8000.0</td>\n",
       "      <td>36 months</td>\n",
       "      <td>12.49</td>\n",
       "      <td>267.60</td>\n",
       "      <td>B</td>\n",
       "      <td>B5</td>\n",
       "      <td>...</td>\n",
       "      <td>NaN</td>\n",
       "      <td>NaN</td>\n",
       "      <td>Cash</td>\n",
       "      <td>N</td>\n",
       "      <td>NaN</td>\n",
       "      <td>NaN</td>\n",
       "      <td>NaN</td>\n",
       "      <td>NaN</td>\n",
       "      <td>NaN</td>\n",
       "      <td>NaN</td>\n",
       "    </tr>\n",
       "  </tbody>\n",
       "</table>\n",
       "<p>5 rows × 145 columns</p>\n",
       "</div>"
      ],
      "text/plain": [
       "   id  member_id  loan_amnt  funded_amnt  funded_amnt_inv        term  \\\n",
       "0 NaN        NaN      22000        22000          22000.0   36 months   \n",
       "1 NaN        NaN       8000         8000           8000.0   36 months   \n",
       "2 NaN        NaN       6000         6000           6000.0   36 months   \n",
       "3 NaN        NaN       5300         5300           5300.0   36 months   \n",
       "4 NaN        NaN       8000         8000           8000.0   36 months   \n",
       "\n",
       "   int_rate  installment grade sub_grade  ... hardship_payoff_balance_amount  \\\n",
       "0      9.17       701.34     B        B2  ...                            NaN   \n",
       "1      5.32       240.92     A        A1  ...                            NaN   \n",
       "2      9.75       192.90     B        B3  ...                            NaN   \n",
       "3     12.39       177.03     C        C1  ...                            NaN   \n",
       "4     12.49       267.60     B        B5  ...                            NaN   \n",
       "\n",
       "  hardship_last_payment_amount disbursement_method  debt_settlement_flag  \\\n",
       "0                          NaN                Cash                     N   \n",
       "1                          NaN                Cash                     N   \n",
       "2                          NaN                Cash                     N   \n",
       "3                          NaN                Cash                     N   \n",
       "4                          NaN                Cash                     N   \n",
       "\n",
       "  debt_settlement_flag_date settlement_status  settlement_date  \\\n",
       "0                       NaN               NaN              NaN   \n",
       "1                       NaN               NaN              NaN   \n",
       "2                       NaN               NaN              NaN   \n",
       "3                       NaN               NaN              NaN   \n",
       "4                       NaN               NaN              NaN   \n",
       "\n",
       "  settlement_amount  settlement_percentage settlement_term  \n",
       "0               NaN                    NaN             NaN  \n",
       "1               NaN                    NaN             NaN  \n",
       "2               NaN                    NaN             NaN  \n",
       "3               NaN                    NaN             NaN  \n",
       "4               NaN                    NaN             NaN  \n",
       "\n",
       "[5 rows x 145 columns]"
      ]
     },
     "execution_count": 2,
     "metadata": {},
     "output_type": "execute_result"
    }
   ],
   "source": [
    "loan = pd.read_csv('C:\\\\Users\\\\Araba\\\\Desktop\\\\blossom1\\\\loan_sample (1).csv')\n",
    "loan.head()"
   ]
  },
  {
   "cell_type": "code",
   "execution_count": 3,
   "metadata": {},
   "outputs": [
    {
     "name": "stdout",
     "output_type": "stream",
     "text": [
      "<class 'pandas.core.frame.DataFrame'>\n",
      "RangeIndex: 391091 entries, 0 to 391090\n",
      "Columns: 145 entries, id to settlement_term\n",
      "dtypes: float64(105), int64(5), object(35)\n",
      "memory usage: 432.6+ MB\n"
     ]
    }
   ],
   "source": [
    "loan.info()"
   ]
  },
  {
   "cell_type": "code",
   "execution_count": 7,
   "metadata": {},
   "outputs": [
    {
     "data": {
      "text/plain": [
       "id                       float64\n",
       "member_id                float64\n",
       "loan_amnt                  int64\n",
       "funded_amnt                int64\n",
       "funded_amnt_inv          float64\n",
       "                          ...   \n",
       "settlement_status         object\n",
       "settlement_date           object\n",
       "settlement_amount        float64\n",
       "settlement_percentage    float64\n",
       "settlement_term          float64\n",
       "Length: 145, dtype: object"
      ]
     },
     "execution_count": 7,
     "metadata": {},
     "output_type": "execute_result"
    }
   ],
   "source": [
    "loan.dtypes"
   ]
  },
  {
   "cell_type": "code",
   "execution_count": 8,
   "metadata": {},
   "outputs": [
    {
     "data": {
      "text/plain": [
       "(391091, 145)"
      ]
     },
     "execution_count": 8,
     "metadata": {},
     "output_type": "execute_result"
    }
   ],
   "source": [
    "loan.shape"
   ]
  },
  {
   "cell_type": "code",
   "execution_count": 9,
   "metadata": {},
   "outputs": [
    {
     "data": {
      "text/plain": [
       "id                       1.000000\n",
       "member_id                1.000000\n",
       "loan_amnt                0.000000\n",
       "funded_amnt              0.000000\n",
       "funded_amnt_inv          0.000000\n",
       "                           ...   \n",
       "settlement_status        0.975474\n",
       "settlement_date          0.975474\n",
       "settlement_amount        0.975474\n",
       "settlement_percentage    0.975474\n",
       "settlement_term          0.975474\n",
       "Length: 145, dtype: float64"
      ]
     },
     "execution_count": 9,
     "metadata": {},
     "output_type": "execute_result"
    }
   ],
   "source": [
    "loan.isna().mean()"
   ]
  },
  {
   "cell_type": "markdown",
   "metadata": {},
   "source": [
    "### Dropping columns with 80% NaN"
   ]
  },
  {
   "cell_type": "code",
   "execution_count": 11,
   "metadata": {},
   "outputs": [],
   "source": [
    "#axis=1 specifies column, inplace=True overwrites loan\n",
    "loan.dropna(thresh=(loan.shape[0] * 0.8), axis=1, inplace=True) "
   ]
  },
  {
   "cell_type": "code",
   "execution_count": 12,
   "metadata": {},
   "outputs": [
    {
     "data": {
      "text/plain": [
       "(391091, 87)"
      ]
     },
     "execution_count": 12,
     "metadata": {},
     "output_type": "execute_result"
    }
   ],
   "source": [
    "# we can now see how many columns have been thrashed\n",
    "loan.shape"
   ]
  },
  {
   "cell_type": "code",
   "execution_count": 13,
   "metadata": {},
   "outputs": [
    {
     "data": {
      "text/plain": [
       "<matplotlib.axes._subplots.AxesSubplot at 0x2718226b48>"
      ]
     },
     "execution_count": 13,
     "metadata": {},
     "output_type": "execute_result"
    },
    {
     "data": {
      "image/png": "[encoded data removed]",
      "text/plain": [
       "<Figure size 1800x720 with 2 Axes>"
      ]
     },
     "metadata": {
      "needs_background": "light"
     },
     "output_type": "display_data"
    }
   ],
   "source": [
    "# visualizing the missingness partern\n",
    "msno.matrix(loan[0:100000])"
   ]
  },
  {
   "cell_type": "code",
   "execution_count": 14,
   "metadata": {},
   "outputs": [
    {
     "data": {
      "text/plain": [
       "array([dtype('int64'), dtype('float64'), dtype('O')], dtype=object)"
      ]
     },
     "execution_count": 14,
     "metadata": {},
     "output_type": "execute_result"
    }
   ],
   "source": [
    "loan.dtypes.unique()"
   ]
  },
  {
   "cell_type": "code",
   "execution_count": 15,
   "metadata": {},
   "outputs": [],
   "source": [
    "int_loan = loan.select_dtypes(include=['float64','int64'])"
   ]
  },
  {
   "cell_type": "code",
   "execution_count": 16,
   "metadata": {},
   "outputs": [
    {
     "data": {
      "text/html": [
       "<div>\n",
       "<style scoped>\n",
       "    .dataframe tbody tr th:only-of-type {\n",
       "        vertical-align: middle;\n",
       "    }\n",
       "\n",
       "    .dataframe tbody tr th {\n",
       "        vertical-align: top;\n",
       "    }\n",
       "\n",
       "    .dataframe thead th {\n",
       "        text-align: right;\n",
       "    }\n",
       "</style>\n",
       "<table border=\"1\" class=\"dataframe\">\n",
       "  <thead>\n",
       "    <tr style=\"text-align: right;\">\n",
       "      <th></th>\n",
       "      <th>loan_amnt</th>\n",
       "      <th>funded_amnt</th>\n",
       "      <th>funded_amnt_inv</th>\n",
       "      <th>int_rate</th>\n",
       "      <th>installment</th>\n",
       "      <th>annual_inc</th>\n",
       "      <th>loan_status</th>\n",
       "      <th>dti</th>\n",
       "      <th>delinq_2yrs</th>\n",
       "      <th>inq_last_6mths</th>\n",
       "      <th>...</th>\n",
       "      <th>num_tl_90g_dpd_24m</th>\n",
       "      <th>num_tl_op_past_12m</th>\n",
       "      <th>pct_tl_nvr_dlq</th>\n",
       "      <th>percent_bc_gt_75</th>\n",
       "      <th>pub_rec_bankruptcies</th>\n",
       "      <th>tax_liens</th>\n",
       "      <th>tot_hi_cred_lim</th>\n",
       "      <th>total_bal_ex_mort</th>\n",
       "      <th>total_bc_limit</th>\n",
       "      <th>total_il_high_credit_limit</th>\n",
       "    </tr>\n",
       "  </thead>\n",
       "  <tbody>\n",
       "    <tr>\n",
       "      <td>0</td>\n",
       "      <td>22000</td>\n",
       "      <td>22000</td>\n",
       "      <td>22000.0</td>\n",
       "      <td>9.17</td>\n",
       "      <td>701.34</td>\n",
       "      <td>73000.0</td>\n",
       "      <td>0</td>\n",
       "      <td>13.16</td>\n",
       "      <td>0.0</td>\n",
       "      <td>2.0</td>\n",
       "      <td>...</td>\n",
       "      <td>0.0</td>\n",
       "      <td>2.0</td>\n",
       "      <td>90.9</td>\n",
       "      <td>50.0</td>\n",
       "      <td>0.0</td>\n",
       "      <td>0.0</td>\n",
       "      <td>56900.0</td>\n",
       "      <td>33797.0</td>\n",
       "      <td>47600.0</td>\n",
       "      <td>0.0</td>\n",
       "    </tr>\n",
       "    <tr>\n",
       "      <td>1</td>\n",
       "      <td>8000</td>\n",
       "      <td>8000</td>\n",
       "      <td>8000.0</td>\n",
       "      <td>5.32</td>\n",
       "      <td>240.92</td>\n",
       "      <td>89000.0</td>\n",
       "      <td>0</td>\n",
       "      <td>6.63</td>\n",
       "      <td>0.0</td>\n",
       "      <td>0.0</td>\n",
       "      <td>...</td>\n",
       "      <td>0.0</td>\n",
       "      <td>1.0</td>\n",
       "      <td>100.0</td>\n",
       "      <td>0.0</td>\n",
       "      <td>1.0</td>\n",
       "      <td>0.0</td>\n",
       "      <td>236146.0</td>\n",
       "      <td>17380.0</td>\n",
       "      <td>10500.0</td>\n",
       "      <td>18039.0</td>\n",
       "    </tr>\n",
       "    <tr>\n",
       "      <td>2</td>\n",
       "      <td>6000</td>\n",
       "      <td>6000</td>\n",
       "      <td>6000.0</td>\n",
       "      <td>9.75</td>\n",
       "      <td>192.90</td>\n",
       "      <td>65000.0</td>\n",
       "      <td>0</td>\n",
       "      <td>24.26</td>\n",
       "      <td>0.0</td>\n",
       "      <td>0.0</td>\n",
       "      <td>...</td>\n",
       "      <td>0.0</td>\n",
       "      <td>2.0</td>\n",
       "      <td>100.0</td>\n",
       "      <td>33.3</td>\n",
       "      <td>0.0</td>\n",
       "      <td>0.0</td>\n",
       "      <td>89841.0</td>\n",
       "      <td>41070.0</td>\n",
       "      <td>16000.0</td>\n",
       "      <td>32641.0</td>\n",
       "    </tr>\n",
       "    <tr>\n",
       "      <td>3</td>\n",
       "      <td>5300</td>\n",
       "      <td>5300</td>\n",
       "      <td>5300.0</td>\n",
       "      <td>12.39</td>\n",
       "      <td>177.03</td>\n",
       "      <td>53486.0</td>\n",
       "      <td>0</td>\n",
       "      <td>32.87</td>\n",
       "      <td>0.0</td>\n",
       "      <td>0.0</td>\n",
       "      <td>...</td>\n",
       "      <td>0.0</td>\n",
       "      <td>2.0</td>\n",
       "      <td>100.0</td>\n",
       "      <td>50.0</td>\n",
       "      <td>0.0</td>\n",
       "      <td>0.0</td>\n",
       "      <td>233175.0</td>\n",
       "      <td>42735.0</td>\n",
       "      <td>17300.0</td>\n",
       "      <td>22828.0</td>\n",
       "    </tr>\n",
       "    <tr>\n",
       "      <td>4</td>\n",
       "      <td>8000</td>\n",
       "      <td>8000</td>\n",
       "      <td>8000.0</td>\n",
       "      <td>12.49</td>\n",
       "      <td>267.60</td>\n",
       "      <td>72550.0</td>\n",
       "      <td>0</td>\n",
       "      <td>10.72</td>\n",
       "      <td>0.0</td>\n",
       "      <td>0.0</td>\n",
       "      <td>...</td>\n",
       "      <td>0.0</td>\n",
       "      <td>1.0</td>\n",
       "      <td>60.0</td>\n",
       "      <td>100.0</td>\n",
       "      <td>0.0</td>\n",
       "      <td>0.0</td>\n",
       "      <td>211884.0</td>\n",
       "      <td>8147.0</td>\n",
       "      <td>6200.0</td>\n",
       "      <td>17684.0</td>\n",
       "    </tr>\n",
       "  </tbody>\n",
       "</table>\n",
       "<p>5 rows × 66 columns</p>\n",
       "</div>"
      ],
      "text/plain": [
       "   loan_amnt  funded_amnt  funded_amnt_inv  int_rate  installment  annual_inc  \\\n",
       "0      22000        22000          22000.0      9.17       701.34     73000.0   \n",
       "1       8000         8000           8000.0      5.32       240.92     89000.0   \n",
       "2       6000         6000           6000.0      9.75       192.90     65000.0   \n",
       "3       5300         5300           5300.0     12.39       177.03     53486.0   \n",
       "4       8000         8000           8000.0     12.49       267.60     72550.0   \n",
       "\n",
       "   loan_status    dti  delinq_2yrs  inq_last_6mths  ...  num_tl_90g_dpd_24m  \\\n",
       "0            0  13.16          0.0             2.0  ...                 0.0   \n",
       "1            0   6.63          0.0             0.0  ...                 0.0   \n",
       "2            0  24.26          0.0             0.0  ...                 0.0   \n",
       "3            0  32.87          0.0             0.0  ...                 0.0   \n",
       "4            0  10.72          0.0             0.0  ...                 0.0   \n",
       "\n",
       "   num_tl_op_past_12m  pct_tl_nvr_dlq  percent_bc_gt_75  pub_rec_bankruptcies  \\\n",
       "0                 2.0            90.9              50.0                   0.0   \n",
       "1                 1.0           100.0               0.0                   1.0   \n",
       "2                 2.0           100.0              33.3                   0.0   \n",
       "3                 2.0           100.0              50.0                   0.0   \n",
       "4                 1.0            60.0             100.0                   0.0   \n",
       "\n",
       "   tax_liens  tot_hi_cred_lim  total_bal_ex_mort  total_bc_limit  \\\n",
       "0        0.0          56900.0            33797.0         47600.0   \n",
       "1        0.0         236146.0            17380.0         10500.0   \n",
       "2        0.0          89841.0            41070.0         16000.0   \n",
       "3        0.0         233175.0            42735.0         17300.0   \n",
       "4        0.0         211884.0             8147.0          6200.0   \n",
       "\n",
       "   total_il_high_credit_limit  \n",
       "0                         0.0  \n",
       "1                     18039.0  \n",
       "2                     32641.0  \n",
       "3                     22828.0  \n",
       "4                     17684.0  \n",
       "\n",
       "[5 rows x 66 columns]"
      ]
     },
     "execution_count": 16,
     "metadata": {},
     "output_type": "execute_result"
    }
   ],
   "source": [
    "int_loan.head()"
   ]
  },
  {
   "cell_type": "code",
   "execution_count": 17,
   "metadata": {},
   "outputs": [
    {
     "data": {
      "text/html": [
       "<div>\n",
       "<style scoped>\n",
       "    .dataframe tbody tr th:only-of-type {\n",
       "        vertical-align: middle;\n",
       "    }\n",
       "\n",
       "    .dataframe tbody tr th {\n",
       "        vertical-align: top;\n",
       "    }\n",
       "\n",
       "    .dataframe thead th {\n",
       "        text-align: right;\n",
       "    }\n",
       "</style>\n",
       "<table border=\"1\" class=\"dataframe\">\n",
       "  <thead>\n",
       "    <tr style=\"text-align: right;\">\n",
       "      <th></th>\n",
       "      <th>loan_status</th>\n",
       "    </tr>\n",
       "  </thead>\n",
       "  <tbody>\n",
       "    <tr>\n",
       "      <td>total_rec_int</td>\n",
       "      <td>0.056074</td>\n",
       "    </tr>\n",
       "    <tr>\n",
       "      <td>mths_since_recent_inq</td>\n",
       "      <td>0.057126</td>\n",
       "    </tr>\n",
       "    <tr>\n",
       "      <td>total_rev_hi_lim</td>\n",
       "      <td>0.058353</td>\n",
       "    </tr>\n",
       "    <tr>\n",
       "      <td>revol_util</td>\n",
       "      <td>0.060663</td>\n",
       "    </tr>\n",
       "    <tr>\n",
       "      <td>inq_last_6mths</td>\n",
       "      <td>0.064318</td>\n",
       "    </tr>\n",
       "    <tr>\n",
       "      <td>funded_amnt_inv</td>\n",
       "      <td>0.065160</td>\n",
       "    </tr>\n",
       "    <tr>\n",
       "      <td>loan_amnt</td>\n",
       "      <td>0.065280</td>\n",
       "    </tr>\n",
       "    <tr>\n",
       "      <td>funded_amnt</td>\n",
       "      <td>0.065349</td>\n",
       "    </tr>\n",
       "    <tr>\n",
       "      <td>bc_util</td>\n",
       "      <td>0.067065</td>\n",
       "    </tr>\n",
       "    <tr>\n",
       "      <td>percent_bc_gt_75</td>\n",
       "      <td>0.068538</td>\n",
       "    </tr>\n",
       "    <tr>\n",
       "      <td>num_rev_tl_bal_gt_0</td>\n",
       "      <td>0.068691</td>\n",
       "    </tr>\n",
       "    <tr>\n",
       "      <td>num_actv_rev_tl</td>\n",
       "      <td>0.070225</td>\n",
       "    </tr>\n",
       "    <tr>\n",
       "      <td>tot_cur_bal</td>\n",
       "      <td>0.071482</td>\n",
       "    </tr>\n",
       "    <tr>\n",
       "      <td>total_bc_limit</td>\n",
       "      <td>0.072652</td>\n",
       "    </tr>\n",
       "    <tr>\n",
       "      <td>mort_acc</td>\n",
       "      <td>0.074902</td>\n",
       "    </tr>\n",
       "    <tr>\n",
       "      <td>tot_hi_cred_lim</td>\n",
       "      <td>0.077482</td>\n",
       "    </tr>\n",
       "    <tr>\n",
       "      <td>avg_cur_bal</td>\n",
       "      <td>0.078729</td>\n",
       "    </tr>\n",
       "    <tr>\n",
       "      <td>bc_open_to_buy</td>\n",
       "      <td>0.081819</td>\n",
       "    </tr>\n",
       "    <tr>\n",
       "      <td>num_tl_op_past_12m</td>\n",
       "      <td>0.083561</td>\n",
       "    </tr>\n",
       "    <tr>\n",
       "      <td>dti</td>\n",
       "      <td>0.087190</td>\n",
       "    </tr>\n",
       "    <tr>\n",
       "      <td>acc_open_past_24mths</td>\n",
       "      <td>0.099143</td>\n",
       "    </tr>\n",
       "    <tr>\n",
       "      <td>total_rec_late_fee</td>\n",
       "      <td>0.140446</td>\n",
       "    </tr>\n",
       "    <tr>\n",
       "      <td>int_rate</td>\n",
       "      <td>0.257736</td>\n",
       "    </tr>\n",
       "    <tr>\n",
       "      <td>total_pymnt_inv</td>\n",
       "      <td>0.318179</td>\n",
       "    </tr>\n",
       "    <tr>\n",
       "      <td>total_pymnt</td>\n",
       "      <td>0.318624</td>\n",
       "    </tr>\n",
       "    <tr>\n",
       "      <td>last_pymnt_amnt</td>\n",
       "      <td>0.350463</td>\n",
       "    </tr>\n",
       "    <tr>\n",
       "      <td>total_rec_prncp</td>\n",
       "      <td>0.441184</td>\n",
       "    </tr>\n",
       "    <tr>\n",
       "      <td>collection_recovery_fee</td>\n",
       "      <td>0.473721</td>\n",
       "    </tr>\n",
       "    <tr>\n",
       "      <td>recoveries</td>\n",
       "      <td>0.498831</td>\n",
       "    </tr>\n",
       "    <tr>\n",
       "      <td>loan_status</td>\n",
       "      <td>1.000000</td>\n",
       "    </tr>\n",
       "    <tr>\n",
       "      <td>policy_code</td>\n",
       "      <td>NaN</td>\n",
       "    </tr>\n",
       "  </tbody>\n",
       "</table>\n",
       "</div>"
      ],
      "text/plain": [
       "                         loan_status\n",
       "total_rec_int               0.056074\n",
       "mths_since_recent_inq       0.057126\n",
       "total_rev_hi_lim            0.058353\n",
       "revol_util                  0.060663\n",
       "inq_last_6mths              0.064318\n",
       "funded_amnt_inv             0.065160\n",
       "loan_amnt                   0.065280\n",
       "funded_amnt                 0.065349\n",
       "bc_util                     0.067065\n",
       "percent_bc_gt_75            0.068538\n",
       "num_rev_tl_bal_gt_0         0.068691\n",
       "num_actv_rev_tl             0.070225\n",
       "tot_cur_bal                 0.071482\n",
       "total_bc_limit              0.072652\n",
       "mort_acc                    0.074902\n",
       "tot_hi_cred_lim             0.077482\n",
       "avg_cur_bal                 0.078729\n",
       "bc_open_to_buy              0.081819\n",
       "num_tl_op_past_12m          0.083561\n",
       "dti                         0.087190\n",
       "acc_open_past_24mths        0.099143\n",
       "total_rec_late_fee          0.140446\n",
       "int_rate                    0.257736\n",
       "total_pymnt_inv             0.318179\n",
       "total_pymnt                 0.318624\n",
       "last_pymnt_amnt             0.350463\n",
       "total_rec_prncp             0.441184\n",
       "collection_recovery_fee     0.473721\n",
       "recoveries                  0.498831\n",
       "loan_status                 1.000000\n",
       "policy_code                      NaN"
      ]
     },
     "execution_count": 17,
     "metadata": {},
     "output_type": "execute_result"
    }
   ],
   "source": [
    "np.absolute(int_loan.corr()[['loan_status']]).sort_values(by='loan_status')[35:]"
   ]
  },
  {
   "cell_type": "code",
   "execution_count": 18,
   "metadata": {},
   "outputs": [
    {
     "data": {
      "text/plain": [
       "Index(['total_rec_int', 'mths_since_recent_inq', 'total_rev_hi_lim',\n",
       "       'revol_util', 'inq_last_6mths', 'funded_amnt_inv', 'loan_amnt',\n",
       "       'funded_amnt', 'bc_util', 'percent_bc_gt_75', 'num_rev_tl_bal_gt_0',\n",
       "       'num_actv_rev_tl', 'tot_cur_bal', 'total_bc_limit', 'mort_acc',\n",
       "       'tot_hi_cred_lim', 'avg_cur_bal', 'bc_open_to_buy',\n",
       "       'num_tl_op_past_12m', 'dti', 'acc_open_past_24mths',\n",
       "       'total_rec_late_fee', 'int_rate', 'total_pymnt_inv', 'total_pymnt',\n",
       "       'last_pymnt_amnt', 'total_rec_prncp', 'collection_recovery_fee',\n",
       "       'recoveries', 'loan_status', 'policy_code'],\n",
       "      dtype='object')"
      ]
     },
     "execution_count": 18,
     "metadata": {},
     "output_type": "execute_result"
    }
   ],
   "source": [
    "np.absolute(int_loan.corr()[['loan_status']]).sort_values(by='loan_status')[35:].index"
   ]
  },
  {
   "cell_type": "code",
   "execution_count": 20,
   "metadata": {},
   "outputs": [
    {
     "data": {
      "text/html": [
       "<div>\n",
       "<style scoped>\n",
       "    .dataframe tbody tr th:only-of-type {\n",
       "        vertical-align: middle;\n",
       "    }\n",
       "\n",
       "    .dataframe tbody tr th {\n",
       "        vertical-align: top;\n",
       "    }\n",
       "\n",
       "    .dataframe thead th {\n",
       "        text-align: right;\n",
       "    }\n",
       "</style>\n",
       "<table border=\"1\" class=\"dataframe\">\n",
       "  <thead>\n",
       "    <tr style=\"text-align: right;\">\n",
       "      <th></th>\n",
       "      <th>term</th>\n",
       "      <th>grade</th>\n",
       "      <th>sub_grade</th>\n",
       "      <th>emp_title</th>\n",
       "      <th>emp_length</th>\n",
       "      <th>home_ownership</th>\n",
       "      <th>verification_status</th>\n",
       "      <th>issue_d</th>\n",
       "      <th>pymnt_plan</th>\n",
       "      <th>purpose</th>\n",
       "      <th>...</th>\n",
       "      <th>zip_code</th>\n",
       "      <th>addr_state</th>\n",
       "      <th>earliest_cr_line</th>\n",
       "      <th>initial_list_status</th>\n",
       "      <th>last_pymnt_d</th>\n",
       "      <th>last_credit_pull_d</th>\n",
       "      <th>application_type</th>\n",
       "      <th>hardship_flag</th>\n",
       "      <th>disbursement_method</th>\n",
       "      <th>debt_settlement_flag</th>\n",
       "    </tr>\n",
       "  </thead>\n",
       "  <tbody>\n",
       "    <tr>\n",
       "      <td>0</td>\n",
       "      <td>36 months</td>\n",
       "      <td>B</td>\n",
       "      <td>B2</td>\n",
       "      <td>Registered Nurse</td>\n",
       "      <td>5 years</td>\n",
       "      <td>RENT</td>\n",
       "      <td>Source Verified</td>\n",
       "      <td>Jun-2015</td>\n",
       "      <td>n</td>\n",
       "      <td>debt_consolidation</td>\n",
       "      <td>...</td>\n",
       "      <td>913xx</td>\n",
       "      <td>CA</td>\n",
       "      <td>Sep-1999</td>\n",
       "      <td>f</td>\n",
       "      <td>Jun-2018</td>\n",
       "      <td>Feb-2019</td>\n",
       "      <td>Individual</td>\n",
       "      <td>N</td>\n",
       "      <td>Cash</td>\n",
       "      <td>N</td>\n",
       "    </tr>\n",
       "    <tr>\n",
       "      <td>1</td>\n",
       "      <td>36 months</td>\n",
       "      <td>A</td>\n",
       "      <td>A1</td>\n",
       "      <td>Foreman</td>\n",
       "      <td>10+ years</td>\n",
       "      <td>MORTGAGE</td>\n",
       "      <td>Not Verified</td>\n",
       "      <td>Aug-2016</td>\n",
       "      <td>n</td>\n",
       "      <td>debt_consolidation</td>\n",
       "      <td>...</td>\n",
       "      <td>740xx</td>\n",
       "      <td>OK</td>\n",
       "      <td>Dec-2001</td>\n",
       "      <td>f</td>\n",
       "      <td>Aug-2018</td>\n",
       "      <td>Feb-2019</td>\n",
       "      <td>Individual</td>\n",
       "      <td>N</td>\n",
       "      <td>Cash</td>\n",
       "      <td>N</td>\n",
       "    </tr>\n",
       "    <tr>\n",
       "      <td>2</td>\n",
       "      <td>36 months</td>\n",
       "      <td>B</td>\n",
       "      <td>B3</td>\n",
       "      <td>Staff Accountant</td>\n",
       "      <td>1 year</td>\n",
       "      <td>RENT</td>\n",
       "      <td>Not Verified</td>\n",
       "      <td>Mar-2016</td>\n",
       "      <td>n</td>\n",
       "      <td>debt_consolidation</td>\n",
       "      <td>...</td>\n",
       "      <td>980xx</td>\n",
       "      <td>WA</td>\n",
       "      <td>Oct-2004</td>\n",
       "      <td>w</td>\n",
       "      <td>May-2017</td>\n",
       "      <td>Feb-2019</td>\n",
       "      <td>Individual</td>\n",
       "      <td>N</td>\n",
       "      <td>Cash</td>\n",
       "      <td>N</td>\n",
       "    </tr>\n",
       "    <tr>\n",
       "      <td>3</td>\n",
       "      <td>36 months</td>\n",
       "      <td>C</td>\n",
       "      <td>C1</td>\n",
       "      <td>ADMINISTRATOR</td>\n",
       "      <td>10+ years</td>\n",
       "      <td>MORTGAGE</td>\n",
       "      <td>Source Verified</td>\n",
       "      <td>Nov-2014</td>\n",
       "      <td>n</td>\n",
       "      <td>debt_consolidation</td>\n",
       "      <td>...</td>\n",
       "      <td>150xx</td>\n",
       "      <td>PA</td>\n",
       "      <td>Jun-1991</td>\n",
       "      <td>w</td>\n",
       "      <td>Nov-2017</td>\n",
       "      <td>Aug-2018</td>\n",
       "      <td>Individual</td>\n",
       "      <td>N</td>\n",
       "      <td>Cash</td>\n",
       "      <td>N</td>\n",
       "    </tr>\n",
       "    <tr>\n",
       "      <td>4</td>\n",
       "      <td>36 months</td>\n",
       "      <td>B</td>\n",
       "      <td>B5</td>\n",
       "      <td>Chemistry Supervisor</td>\n",
       "      <td>10+ years</td>\n",
       "      <td>MORTGAGE</td>\n",
       "      <td>Not Verified</td>\n",
       "      <td>Sep-2014</td>\n",
       "      <td>n</td>\n",
       "      <td>other</td>\n",
       "      <td>...</td>\n",
       "      <td>441xx</td>\n",
       "      <td>OH</td>\n",
       "      <td>Jul-1979</td>\n",
       "      <td>w</td>\n",
       "      <td>Sep-2017</td>\n",
       "      <td>Feb-2019</td>\n",
       "      <td>Individual</td>\n",
       "      <td>N</td>\n",
       "      <td>Cash</td>\n",
       "      <td>N</td>\n",
       "    </tr>\n",
       "  </tbody>\n",
       "</table>\n",
       "<p>5 rows × 21 columns</p>\n",
       "</div>"
      ],
      "text/plain": [
       "         term grade sub_grade             emp_title emp_length home_ownership  \\\n",
       "0   36 months     B        B2      Registered Nurse    5 years           RENT   \n",
       "1   36 months     A        A1               Foreman  10+ years       MORTGAGE   \n",
       "2   36 months     B        B3      Staff Accountant     1 year           RENT   \n",
       "3   36 months     C        C1         ADMINISTRATOR  10+ years       MORTGAGE   \n",
       "4   36 months     B        B5  Chemistry Supervisor  10+ years       MORTGAGE   \n",
       "\n",
       "  verification_status   issue_d pymnt_plan             purpose  ... zip_code  \\\n",
       "0     Source Verified  Jun-2015          n  debt_consolidation  ...    913xx   \n",
       "1        Not Verified  Aug-2016          n  debt_consolidation  ...    740xx   \n",
       "2        Not Verified  Mar-2016          n  debt_consolidation  ...    980xx   \n",
       "3     Source Verified  Nov-2014          n  debt_consolidation  ...    150xx   \n",
       "4        Not Verified  Sep-2014          n               other  ...    441xx   \n",
       "\n",
       "  addr_state earliest_cr_line initial_list_status last_pymnt_d  \\\n",
       "0         CA         Sep-1999                   f     Jun-2018   \n",
       "1         OK         Dec-2001                   f     Aug-2018   \n",
       "2         WA         Oct-2004                   w     May-2017   \n",
       "3         PA         Jun-1991                   w     Nov-2017   \n",
       "4         OH         Jul-1979                   w     Sep-2017   \n",
       "\n",
       "  last_credit_pull_d application_type hardship_flag disbursement_method  \\\n",
       "0           Feb-2019       Individual             N                Cash   \n",
       "1           Feb-2019       Individual             N                Cash   \n",
       "2           Feb-2019       Individual             N                Cash   \n",
       "3           Aug-2018       Individual             N                Cash   \n",
       "4           Feb-2019       Individual             N                Cash   \n",
       "\n",
       "  debt_settlement_flag  \n",
       "0                    N  \n",
       "1                    N  \n",
       "2                    N  \n",
       "3                    N  \n",
       "4                    N  \n",
       "\n",
       "[5 rows x 21 columns]"
      ]
     },
     "execution_count": 20,
     "metadata": {},
     "output_type": "execute_result"
    }
   ],
   "source": [
    "cat_loan = loan.select_dtypes(include=['O'])\n",
    "cat_loan.head()"
   ]
  },
  {
   "cell_type": "code",
   "execution_count": 21,
   "metadata": {},
   "outputs": [
    {
     "data": {
      "text/plain": [
       "(391091, 21)"
      ]
     },
     "execution_count": 21,
     "metadata": {},
     "output_type": "execute_result"
    }
   ],
   "source": [
    "cat_loan.shape"
   ]
  },
  {
   "cell_type": "code",
   "execution_count": 22,
   "metadata": {},
   "outputs": [
    {
     "data": {
      "text/plain": [
       "array(['B', 'A', 'C', 'D', 'E', 'G', 'F'], dtype=object)"
      ]
     },
     "execution_count": 22,
     "metadata": {},
     "output_type": "execute_result"
    }
   ],
   "source": [
    "cat_loan.grade.unique()"
   ]
  },
  {
   "cell_type": "code",
   "execution_count": 23,
   "metadata": {},
   "outputs": [
    {
     "data": {
      "text/plain": [
       "Index(['term', 'grade', 'sub_grade', 'emp_title', 'emp_length',\n",
       "       'home_ownership', 'verification_status', 'issue_d', 'pymnt_plan',\n",
       "       'purpose', 'title', 'zip_code', 'addr_state', 'earliest_cr_line',\n",
       "       'initial_list_status', 'last_pymnt_d', 'last_credit_pull_d',\n",
       "       'application_type', 'hardship_flag', 'disbursement_method',\n",
       "       'debt_settlement_flag'],\n",
       "      dtype='object')"
      ]
     },
     "execution_count": 23,
     "metadata": {},
     "output_type": "execute_result"
    }
   ],
   "source": [
    "cat_loan.columns"
   ]
  },
  {
   "cell_type": "code",
   "execution_count": 24,
   "metadata": {},
   "outputs": [],
   "source": [
    "# Encoding grade as a predictor variable\n",
    "encode = {'A': 1, 'B': 2, 'C': 3, 'D': 4, 'E': 5, 'F': 6,'G': 7}\n",
    "cat_loan['grade'].replace(encode, inplace=True)\n",
    "\n",
    "# adding encoded grade feature to int_loan dataframe for modeling\n",
    "int_loan['grade'] = cat_loan['grade'].copy()"
   ]
  },
  {
   "cell_type": "markdown",
   "metadata": {},
   "source": [
    "## Modeling with continuous predictor variables"
   ]
  },
  {
   "cell_type": "code",
   "execution_count": 26,
   "metadata": {},
   "outputs": [
    {
     "data": {
      "text/plain": [
       "<matplotlib.axes._subplots.AxesSubplot at 0x27172ebcc8>"
      ]
     },
     "execution_count": 26,
     "metadata": {},
     "output_type": "execute_result"
    },
    {
     "data": {
      "image/png": "[encoded data removed]",
      "text/plain": [
       "<Figure size 432x288 with 1 Axes>"
      ]
     },
     "metadata": {
      "needs_background": "light"
     },
     "output_type": "display_data"
    }
   ],
   "source": [
    "# plotting the distribution of the target variable\n",
    "sns.countplot(loan['loan_status'])"
   ]
  },
  {
   "cell_type": "code",
   "execution_count": 28,
   "metadata": {},
   "outputs": [],
   "source": [
    "# filling missing values with IterativeImputer\n",
    "\n",
    "from sklearn.experimental import enable_iterative_imputer\n",
    "from sklearn.impute import IterativeImputer\n",
    "imp = IterativeImputer(max_iter=1, verbose=0)\n",
    "imputed_loan = imp.fit_transform(int_loan)\n",
    "int_loan = pd.DataFrame(imputed_loan, columns=int_loan.columns)"
   ]
  },
  {
   "cell_type": "code",
   "execution_count": 29,
   "metadata": {},
   "outputs": [],
   "source": [
    "int_loan['loan_status'] = loan['loan_status'].copy()"
   ]
  },
  {
   "cell_type": "code",
   "execution_count": 30,
   "metadata": {},
   "outputs": [
    {
     "data": {
      "text/plain": [
       "loan_amnt                     0\n",
       "funded_amnt                   0\n",
       "funded_amnt_inv               0\n",
       "int_rate                      0\n",
       "installment                   0\n",
       "                             ..\n",
       "tot_hi_cred_lim               0\n",
       "total_bal_ex_mort             0\n",
       "total_bc_limit                0\n",
       "total_il_high_credit_limit    0\n",
       "grade                         0\n",
       "Length: 67, dtype: int64"
      ]
     },
     "execution_count": 30,
     "metadata": {},
     "output_type": "execute_result"
    }
   ],
   "source": [
    "# finding the sum of null values in the loan after Iterative imputation\n",
    "int_loan.isna().sum()"
   ]
  },
  {
   "cell_type": "markdown",
   "metadata": {},
   "source": [
    "## Model Feature Selection "
   ]
  },
  {
   "cell_type": "code",
   "execution_count": 31,
   "metadata": {},
   "outputs": [],
   "source": [
    "X_test_loan = int_loan[['total_rec_late_fee', 'int_rate', 'total_pymnt_inv', 'total_pymnt', 'grade', 'last_pymnt_amnt', 'total_rec_prncp',\n",
    "             'collection_recovery_fee', 'recoveries', 'loan_status']].copy()"
   ]
  },
  {
   "cell_type": "code",
   "execution_count": 32,
   "metadata": {},
   "outputs": [
    {
     "data": {
      "text/plain": [
       "<matplotlib.axes._subplots.AxesSubplot at 0x272e8bd348>"
      ]
     },
     "execution_count": 32,
     "metadata": {},
     "output_type": "execute_result"
    },
    {
     "data": {
      "image/png": "[encoded data removed]",
      "text/plain": [
       "<Figure size 432x288 with 2 Axes>"
      ]
     },
     "metadata": {
      "needs_background": "light"
     },
     "output_type": "display_data"
    }
   ],
   "source": [
    "# checking for little or no multicollinearity between good predictor variables\n",
    "sns.heatmap(X_test_loan.corr(), annot=True)"
   ]
  },
  {
   "cell_type": "code",
   "execution_count": 33,
   "metadata": {},
   "outputs": [],
   "source": [
    "# feature selection while dealing with multicollinearity\n",
    "X = int_loan[['total_rec_int', 'mths_since_recent_inq', 'total_rev_hi_lim','revol_util', 'inq_last_6mths','funded_amnt_inv','loan_amnt','funded_amnt',\n",
    "            'bc_util', 'percent_bc_gt_75', 'num_rev_tl_bal_gt_0','num_actv_rev_tl', 'tot_cur_bal', 'total_bc_limit', 'mort_acc',\n",
    "            'tot_hi_cred_lim', 'avg_cur_bal', 'bc_open_to_buy','num_tl_op_past_12m', 'dti', 'acc_open_past_24mths', 'total_rec_late_fee',\n",
    "            'int_rate','total_rec_prncp','recoveries']]   \n",
    "# Dropped columns as a result of multicollinearity: 'collection_recovery_fee','total_pymnt_inv','total_pymnt','grade','last_pymnt_amnt'\n",
    "y = int_loan['loan_status']"
   ]
  },
  {
   "cell_type": "code",
   "execution_count": 34,
   "metadata": {},
   "outputs": [
    {
     "data": {
      "text/html": [
       "<div>\n",
       "<style scoped>\n",
       "    .dataframe tbody tr th:only-of-type {\n",
       "        vertical-align: middle;\n",
       "    }\n",
       "\n",
       "    .dataframe tbody tr th {\n",
       "        vertical-align: top;\n",
       "    }\n",
       "\n",
       "    .dataframe thead th {\n",
       "        text-align: right;\n",
       "    }\n",
       "</style>\n",
       "<table border=\"1\" class=\"dataframe\">\n",
       "  <thead>\n",
       "    <tr style=\"text-align: right;\">\n",
       "      <th></th>\n",
       "      <th>total_rec_int</th>\n",
       "      <th>mths_since_recent_inq</th>\n",
       "      <th>total_rev_hi_lim</th>\n",
       "      <th>revol_util</th>\n",
       "      <th>inq_last_6mths</th>\n",
       "      <th>funded_amnt_inv</th>\n",
       "      <th>loan_amnt</th>\n",
       "      <th>funded_amnt</th>\n",
       "      <th>bc_util</th>\n",
       "      <th>percent_bc_gt_75</th>\n",
       "      <th>...</th>\n",
       "      <th>tot_hi_cred_lim</th>\n",
       "      <th>avg_cur_bal</th>\n",
       "      <th>bc_open_to_buy</th>\n",
       "      <th>num_tl_op_past_12m</th>\n",
       "      <th>dti</th>\n",
       "      <th>acc_open_past_24mths</th>\n",
       "      <th>total_rec_late_fee</th>\n",
       "      <th>int_rate</th>\n",
       "      <th>total_rec_prncp</th>\n",
       "      <th>recoveries</th>\n",
       "    </tr>\n",
       "  </thead>\n",
       "  <tbody>\n",
       "    <tr>\n",
       "      <td>count</td>\n",
       "      <td>391091.000000</td>\n",
       "      <td>391091.000000</td>\n",
       "      <td>3.910910e+05</td>\n",
       "      <td>391091.000000</td>\n",
       "      <td>391091.000000</td>\n",
       "      <td>391091.000000</td>\n",
       "      <td>391091.000000</td>\n",
       "      <td>391091.000000</td>\n",
       "      <td>391091.000000</td>\n",
       "      <td>391091.000000</td>\n",
       "      <td>...</td>\n",
       "      <td>3.910910e+05</td>\n",
       "      <td>391091.000000</td>\n",
       "      <td>391091.000000</td>\n",
       "      <td>391091.000000</td>\n",
       "      <td>391091.000000</td>\n",
       "      <td>391091.000000</td>\n",
       "      <td>3.910910e+05</td>\n",
       "      <td>391091.000000</td>\n",
       "      <td>391091.000000</td>\n",
       "      <td>391091.000000</td>\n",
       "    </tr>\n",
       "    <tr>\n",
       "      <td>mean</td>\n",
       "      <td>2389.595285</td>\n",
       "      <td>7.048598</td>\n",
       "      <td>3.227330e+04</td>\n",
       "      <td>51.939313</td>\n",
       "      <td>0.658062</td>\n",
       "      <td>14383.725432</td>\n",
       "      <td>14415.314466</td>\n",
       "      <td>14406.373005</td>\n",
       "      <td>59.959093</td>\n",
       "      <td>45.263582</td>\n",
       "      <td>...</td>\n",
       "      <td>1.740226e+05</td>\n",
       "      <td>13505.694563</td>\n",
       "      <td>10058.320360</td>\n",
       "      <td>2.173096</td>\n",
       "      <td>18.226540</td>\n",
       "      <td>4.687604</td>\n",
       "      <td>1.556729e+00</td>\n",
       "      <td>13.263880</td>\n",
       "      <td>12161.530052</td>\n",
       "      <td>234.968618</td>\n",
       "    </tr>\n",
       "    <tr>\n",
       "      <td>std</td>\n",
       "      <td>2592.454542</td>\n",
       "      <td>5.635766</td>\n",
       "      <td>3.257225e+04</td>\n",
       "      <td>24.531583</td>\n",
       "      <td>0.940042</td>\n",
       "      <td>8710.172632</td>\n",
       "      <td>8712.171819</td>\n",
       "      <td>8707.771660</td>\n",
       "      <td>27.824428</td>\n",
       "      <td>35.389946</td>\n",
       "      <td>...</td>\n",
       "      <td>1.739525e+05</td>\n",
       "      <td>15831.185057</td>\n",
       "      <td>14929.346397</td>\n",
       "      <td>1.799216</td>\n",
       "      <td>10.866193</td>\n",
       "      <td>3.124118</td>\n",
       "      <td>1.067662e+01</td>\n",
       "      <td>4.755226</td>\n",
       "      <td>8861.606328</td>\n",
       "      <td>939.759603</td>\n",
       "    </tr>\n",
       "    <tr>\n",
       "      <td>min</td>\n",
       "      <td>0.000000</td>\n",
       "      <td>-56.391325</td>\n",
       "      <td>-4.378653e+04</td>\n",
       "      <td>0.000000</td>\n",
       "      <td>0.000000</td>\n",
       "      <td>0.000000</td>\n",
       "      <td>500.000000</td>\n",
       "      <td>500.000000</td>\n",
       "      <td>0.000000</td>\n",
       "      <td>-38.482468</td>\n",
       "      <td>...</td>\n",
       "      <td>0.000000e+00</td>\n",
       "      <td>-47636.540631</td>\n",
       "      <td>-24052.348582</td>\n",
       "      <td>-0.282272</td>\n",
       "      <td>0.000000</td>\n",
       "      <td>0.000000</td>\n",
       "      <td>-2.000000e-10</td>\n",
       "      <td>5.310000</td>\n",
       "      <td>0.000000</td>\n",
       "      <td>0.000000</td>\n",
       "    </tr>\n",
       "    <tr>\n",
       "      <td>25%</td>\n",
       "      <td>763.320000</td>\n",
       "      <td>2.000000</td>\n",
       "      <td>1.391610e+04</td>\n",
       "      <td>33.600000</td>\n",
       "      <td>0.000000</td>\n",
       "      <td>7900.000000</td>\n",
       "      <td>8000.000000</td>\n",
       "      <td>8000.000000</td>\n",
       "      <td>39.000000</td>\n",
       "      <td>12.500000</td>\n",
       "      <td>...</td>\n",
       "      <td>5.173850e+04</td>\n",
       "      <td>3239.000000</td>\n",
       "      <td>1494.000000</td>\n",
       "      <td>1.000000</td>\n",
       "      <td>11.760000</td>\n",
       "      <td>2.000000</td>\n",
       "      <td>0.000000e+00</td>\n",
       "      <td>9.750000</td>\n",
       "      <td>5000.000000</td>\n",
       "      <td>0.000000</td>\n",
       "    </tr>\n",
       "    <tr>\n",
       "      <td>50%</td>\n",
       "      <td>1564.330000</td>\n",
       "      <td>6.000000</td>\n",
       "      <td>2.390000e+04</td>\n",
       "      <td>52.400000</td>\n",
       "      <td>0.000000</td>\n",
       "      <td>12000.000000</td>\n",
       "      <td>12000.000000</td>\n",
       "      <td>12000.000000</td>\n",
       "      <td>62.912242</td>\n",
       "      <td>44.400000</td>\n",
       "      <td>...</td>\n",
       "      <td>1.246590e+05</td>\n",
       "      <td>8226.000000</td>\n",
       "      <td>4886.000000</td>\n",
       "      <td>2.000000</td>\n",
       "      <td>17.570000</td>\n",
       "      <td>4.000000</td>\n",
       "      <td>0.000000e+00</td>\n",
       "      <td>12.790000</td>\n",
       "      <td>10000.000000</td>\n",
       "      <td>0.000000</td>\n",
       "    </tr>\n",
       "    <tr>\n",
       "      <td>75%</td>\n",
       "      <td>3019.675000</td>\n",
       "      <td>10.099594</td>\n",
       "      <td>4.010000e+04</td>\n",
       "      <td>70.800000</td>\n",
       "      <td>1.000000</td>\n",
       "      <td>20000.000000</td>\n",
       "      <td>20000.000000</td>\n",
       "      <td>20000.000000</td>\n",
       "      <td>84.000000</td>\n",
       "      <td>75.000000</td>\n",
       "      <td>...</td>\n",
       "      <td>2.431000e+05</td>\n",
       "      <td>18139.500000</td>\n",
       "      <td>12327.000000</td>\n",
       "      <td>3.000000</td>\n",
       "      <td>24.010000</td>\n",
       "      <td>6.000000</td>\n",
       "      <td>0.000000e+00</td>\n",
       "      <td>15.990000</td>\n",
       "      <td>17125.000000</td>\n",
       "      <td>0.000000</td>\n",
       "    </tr>\n",
       "    <tr>\n",
       "      <td>max</td>\n",
       "      <td>27884.800000</td>\n",
       "      <td>75.799945</td>\n",
       "      <td>1.649101e+06</td>\n",
       "      <td>892.300000</td>\n",
       "      <td>8.000000</td>\n",
       "      <td>40000.000000</td>\n",
       "      <td>40000.000000</td>\n",
       "      <td>40000.000000</td>\n",
       "      <td>526.202551</td>\n",
       "      <td>579.009094</td>\n",
       "      <td>...</td>\n",
       "      <td>9.999999e+06</td>\n",
       "      <td>497484.000000</td>\n",
       "      <td>497445.000000</td>\n",
       "      <td>32.000000</td>\n",
       "      <td>999.000000</td>\n",
       "      <td>48.000000</td>\n",
       "      <td>9.298000e+02</td>\n",
       "      <td>30.990000</td>\n",
       "      <td>40000.000000</td>\n",
       "      <td>39859.550000</td>\n",
       "    </tr>\n",
       "  </tbody>\n",
       "</table>\n",
       "<p>8 rows × 25 columns</p>\n",
       "</div>"
      ],
      "text/plain": [
       "       total_rec_int  mths_since_recent_inq  total_rev_hi_lim     revol_util  \\\n",
       "count  391091.000000          391091.000000      3.910910e+05  391091.000000   \n",
       "mean     2389.595285               7.048598      3.227330e+04      51.939313   \n",
       "std      2592.454542               5.635766      3.257225e+04      24.531583   \n",
       "min         0.000000             -56.391325     -4.378653e+04       0.000000   \n",
       "25%       763.320000               2.000000      1.391610e+04      33.600000   \n",
       "50%      1564.330000               6.000000      2.390000e+04      52.400000   \n",
       "75%      3019.675000              10.099594      4.010000e+04      70.800000   \n",
       "max     27884.800000              75.799945      1.649101e+06     892.300000   \n",
       "\n",
       "       inq_last_6mths  funded_amnt_inv      loan_amnt    funded_amnt  \\\n",
       "count   391091.000000    391091.000000  391091.000000  391091.000000   \n",
       "mean         0.658062     14383.725432   14415.314466   14406.373005   \n",
       "std          0.940042      8710.172632    8712.171819    8707.771660   \n",
       "min          0.000000         0.000000     500.000000     500.000000   \n",
       "25%          0.000000      7900.000000    8000.000000    8000.000000   \n",
       "50%          0.000000     12000.000000   12000.000000   12000.000000   \n",
       "75%          1.000000     20000.000000   20000.000000   20000.000000   \n",
       "max          8.000000     40000.000000   40000.000000   40000.000000   \n",
       "\n",
       "             bc_util  percent_bc_gt_75  ...  tot_hi_cred_lim    avg_cur_bal  \\\n",
       "count  391091.000000     391091.000000  ...     3.910910e+05  391091.000000   \n",
       "mean       59.959093         45.263582  ...     1.740226e+05   13505.694563   \n",
       "std        27.824428         35.389946  ...     1.739525e+05   15831.185057   \n",
       "min         0.000000        -38.482468  ...     0.000000e+00  -47636.540631   \n",
       "25%        39.000000         12.500000  ...     5.173850e+04    3239.000000   \n",
       "50%        62.912242         44.400000  ...     1.246590e+05    8226.000000   \n",
       "75%        84.000000         75.000000  ...     2.431000e+05   18139.500000   \n",
       "max       526.202551        579.009094  ...     9.999999e+06  497484.000000   \n",
       "\n",
       "       bc_open_to_buy  num_tl_op_past_12m            dti  \\\n",
       "count   391091.000000       391091.000000  391091.000000   \n",
       "mean     10058.320360            2.173096      18.226540   \n",
       "std      14929.346397            1.799216      10.866193   \n",
       "min     -24052.348582           -0.282272       0.000000   \n",
       "25%       1494.000000            1.000000      11.760000   \n",
       "50%       4886.000000            2.000000      17.570000   \n",
       "75%      12327.000000            3.000000      24.010000   \n",
       "max     497445.000000           32.000000     999.000000   \n",
       "\n",
       "       acc_open_past_24mths  total_rec_late_fee       int_rate  \\\n",
       "count         391091.000000        3.910910e+05  391091.000000   \n",
       "mean               4.687604        1.556729e+00      13.263880   \n",
       "std                3.124118        1.067662e+01       4.755226   \n",
       "min                0.000000       -2.000000e-10       5.310000   \n",
       "25%                2.000000        0.000000e+00       9.750000   \n",
       "50%                4.000000        0.000000e+00      12.790000   \n",
       "75%                6.000000        0.000000e+00      15.990000   \n",
       "max               48.000000        9.298000e+02      30.990000   \n",
       "\n",
       "       total_rec_prncp     recoveries  \n",
       "count    391091.000000  391091.000000  \n",
       "mean      12161.530052     234.968618  \n",
       "std        8861.606328     939.759603  \n",
       "min           0.000000       0.000000  \n",
       "25%        5000.000000       0.000000  \n",
       "50%       10000.000000       0.000000  \n",
       "75%       17125.000000       0.000000  \n",
       "max       40000.000000   39859.550000  \n",
       "\n",
       "[8 rows x 25 columns]"
      ]
     },
     "execution_count": 34,
     "metadata": {},
     "output_type": "execute_result"
    }
   ],
   "source": [
    "# values to be scaled later\n",
    "X.describe() "
   ]
  },
  {
   "cell_type": "code",
   "execution_count": 35,
   "metadata": {},
   "outputs": [],
   "source": [
    "# splitting data into train and tests sets\n",
    "X_train, X_test, y_train, y_test = train_test_split(X, y, test_size=0.25, random_state=123, stratify=y)"
   ]
  },
  {
   "cell_type": "markdown",
   "metadata": {},
   "source": [
    "### Logistic Regression "
   ]
  },
  {
   "cell_type": "code",
   "execution_count": 37,
   "metadata": {},
   "outputs": [],
   "source": [
    "logreg_model_1 = LogisticRegression()\n",
    "logreg_model_1.fit(X_train,y_train)\n",
    "#y_pred_train = logreg_model_1.predict(X_train)\n",
    "y_pred_test = logreg_model_1.predict(X_test)"
   ]
  },
  {
   "cell_type": "code",
   "execution_count": 38,
   "metadata": {},
   "outputs": [
    {
     "data": {
      "text/plain": [
       "0.998997678295644"
      ]
     },
     "execution_count": 38,
     "metadata": {},
     "output_type": "execute_result"
    }
   ],
   "source": [
    "metrics.accuracy_score(y_test, y_pred_test)"
   ]
  },
  {
   "cell_type": "code",
   "execution_count": 39,
   "metadata": {},
   "outputs": [
    {
     "data": {
      "text/plain": [
       "array([[78140,     1],\n",
       "       [   97, 19535]], dtype=int64)"
      ]
     },
     "execution_count": 39,
     "metadata": {},
     "output_type": "execute_result"
    }
   ],
   "source": [
    "metrics.confusion_matrix(y_test, y_pred_test)"
   ]
  },
  {
   "cell_type": "code",
   "execution_count": 40,
   "metadata": {},
   "outputs": [
    {
     "name": "stdout",
     "output_type": "stream",
     "text": [
      "              precision    recall  f1-score   support\n",
      "\n",
      "           0       1.00      1.00      1.00     78141\n",
      "           1       1.00      1.00      1.00     19632\n",
      "\n",
      "    accuracy                           1.00     97773\n",
      "   macro avg       1.00      1.00      1.00     97773\n",
      "weighted avg       1.00      1.00      1.00     97773\n",
      "\n"
     ]
    }
   ],
   "source": [
    "print(metrics.classification_report(y_test, y_pred_test))"
   ]
  },
  {
   "cell_type": "code",
   "execution_count": 41,
   "metadata": {},
   "outputs": [],
   "source": [
    "y_pred_prob = logreg_model_1.predict_proba(X_test)[:,1]"
   ]
  },
  {
   "cell_type": "code",
   "execution_count": 42,
   "metadata": {},
   "outputs": [
    {
     "data": {
      "text/plain": [
       "0.9992272774059915"
      ]
     },
     "execution_count": 42,
     "metadata": {},
     "output_type": "execute_result"
    }
   ],
   "source": [
    "metrics.roc_auc_score(y_test, y_pred_prob)"
   ]
  },
  {
   "cell_type": "markdown",
   "metadata": {},
   "source": [
    "### Support Vector Machine Classifier"
   ]
  },
  {
   "cell_type": "code",
   "execution_count": 43,
   "metadata": {},
   "outputs": [],
   "source": [
    "#svm_model_1 = SVC(kernel='linear')\n",
    "#svm_model_1.fit(X_train,y_train)\n",
    "#y_pred_train = svm_model_1.predict(X_train)\n",
    "#y_pred_test = svm_model_1.predict(X_test)"
   ]
  },
  {
   "cell_type": "code",
   "execution_count": 44,
   "metadata": {},
   "outputs": [],
   "source": [
    "#metrics.accuracy_score(y_test, y_pred_test)"
   ]
  },
  {
   "cell_type": "code",
   "execution_count": 45,
   "metadata": {},
   "outputs": [],
   "source": [
    "#metrics.confusion_matrix(y_test, y_pred_test)"
   ]
  },
  {
   "cell_type": "code",
   "execution_count": 46,
   "metadata": {},
   "outputs": [],
   "source": [
    "#print(metrics.classification_report(y_test, y_pred_test))"
   ]
  },
  {
   "cell_type": "markdown",
   "metadata": {},
   "source": [
    "### RandomForestClassifier"
   ]
  },
  {
   "cell_type": "code",
   "execution_count": 47,
   "metadata": {},
   "outputs": [],
   "source": [
    "rf_model_1 = RandomForestClassifier()\n",
    "rf_model_1.fit(X_train,y_train)\n",
    "#y_pred_train = rf_model_1.predict(X_train)\n",
    "y_pred_test = rf_model_1.predict(X_test)"
   ]
  },
  {
   "cell_type": "code",
   "execution_count": 48,
   "metadata": {},
   "outputs": [
    {
     "data": {
      "text/plain": [
       "0.995417957922944"
      ]
     },
     "execution_count": 48,
     "metadata": {},
     "output_type": "execute_result"
    }
   ],
   "source": [
    "metrics.accuracy_score(y_test, y_pred_test)"
   ]
  },
  {
   "cell_type": "code",
   "execution_count": 49,
   "metadata": {},
   "outputs": [
    {
     "data": {
      "text/plain": [
       "array([[78138,     3],\n",
       "       [  445, 19187]], dtype=int64)"
      ]
     },
     "execution_count": 49,
     "metadata": {},
     "output_type": "execute_result"
    }
   ],
   "source": [
    "metrics.confusion_matrix(y_test, y_pred_test)"
   ]
  },
  {
   "cell_type": "code",
   "execution_count": 50,
   "metadata": {},
   "outputs": [
    {
     "name": "stdout",
     "output_type": "stream",
     "text": [
      "              precision    recall  f1-score   support\n",
      "\n",
      "           0       0.99      1.00      1.00     78141\n",
      "           1       1.00      0.98      0.99     19632\n",
      "\n",
      "    accuracy                           1.00     97773\n",
      "   macro avg       1.00      0.99      0.99     97773\n",
      "weighted avg       1.00      1.00      1.00     97773\n",
      "\n"
     ]
    }
   ],
   "source": [
    "print(metrics.classification_report(y_test, y_pred_test))"
   ]
  },
  {
   "cell_type": "code",
   "execution_count": 51,
   "metadata": {},
   "outputs": [
    {
     "data": {
      "text/plain": [
       "0.9987596007330364"
      ]
     },
     "execution_count": 51,
     "metadata": {},
     "output_type": "execute_result"
    }
   ],
   "source": [
    "y_pred_prob = rf_model_1.predict_proba(X_test)[:,1]\n",
    "metrics.roc_auc_score(y_test, y_pred_prob)"
   ]
  },
  {
   "cell_type": "markdown",
   "metadata": {},
   "source": [
    "## MinMaxScaler\n",
    "* Scaling features and remodeling"
   ]
  },
  {
   "cell_type": "code",
   "execution_count": 52,
   "metadata": {},
   "outputs": [],
   "source": [
    "from sklearn.preprocessing import MinMaxScaler, StandardScaler"
   ]
  },
  {
   "cell_type": "code",
   "execution_count": 53,
   "metadata": {},
   "outputs": [],
   "source": [
    "mm = MinMaxScaler()\n",
    "feature_names = X_train.columns\n",
    "X_train_mm = mm.fit_transform(X_train)\n",
    "X_train_mm = pd.DataFrame(X_train_mm, columns=feature_names)\n",
    "X_test_mm = mm.transform(X_test)\n",
    "X_test_mm = pd.DataFrame(X_test_mm, columns=feature_names)"
   ]
  },
  {
   "cell_type": "code",
   "execution_count": 54,
   "metadata": {},
   "outputs": [
    {
     "data": {
      "text/html": [
       "<div>\n",
       "<style scoped>\n",
       "    .dataframe tbody tr th:only-of-type {\n",
       "        vertical-align: middle;\n",
       "    }\n",
       "\n",
       "    .dataframe tbody tr th {\n",
       "        vertical-align: top;\n",
       "    }\n",
       "\n",
       "    .dataframe thead th {\n",
       "        text-align: right;\n",
       "    }\n",
       "</style>\n",
       "<table border=\"1\" class=\"dataframe\">\n",
       "  <thead>\n",
       "    <tr style=\"text-align: right;\">\n",
       "      <th></th>\n",
       "      <th>total_rec_int</th>\n",
       "      <th>mths_since_recent_inq</th>\n",
       "      <th>total_rev_hi_lim</th>\n",
       "      <th>revol_util</th>\n",
       "      <th>inq_last_6mths</th>\n",
       "      <th>funded_amnt_inv</th>\n",
       "      <th>loan_amnt</th>\n",
       "      <th>funded_amnt</th>\n",
       "      <th>bc_util</th>\n",
       "      <th>percent_bc_gt_75</th>\n",
       "      <th>...</th>\n",
       "      <th>tot_hi_cred_lim</th>\n",
       "      <th>avg_cur_bal</th>\n",
       "      <th>bc_open_to_buy</th>\n",
       "      <th>num_tl_op_past_12m</th>\n",
       "      <th>dti</th>\n",
       "      <th>acc_open_past_24mths</th>\n",
       "      <th>total_rec_late_fee</th>\n",
       "      <th>int_rate</th>\n",
       "      <th>total_rec_prncp</th>\n",
       "      <th>recoveries</th>\n",
       "    </tr>\n",
       "  </thead>\n",
       "  <tbody>\n",
       "    <tr>\n",
       "      <td>count</td>\n",
       "      <td>293318.000000</td>\n",
       "      <td>293318.000000</td>\n",
       "      <td>293318.000000</td>\n",
       "      <td>293318.000000</td>\n",
       "      <td>293318.000000</td>\n",
       "      <td>293318.000000</td>\n",
       "      <td>293318.000000</td>\n",
       "      <td>293318.000000</td>\n",
       "      <td>293318.000000</td>\n",
       "      <td>293318.000000</td>\n",
       "      <td>...</td>\n",
       "      <td>293318.000000</td>\n",
       "      <td>293318.000000</td>\n",
       "      <td>293318.000000</td>\n",
       "      <td>293318.000000</td>\n",
       "      <td>293318.000000</td>\n",
       "      <td>293318.000000</td>\n",
       "      <td>293318.000000</td>\n",
       "      <td>293318.000000</td>\n",
       "      <td>293318.000000</td>\n",
       "      <td>293318.000000</td>\n",
       "    </tr>\n",
       "    <tr>\n",
       "      <td>mean</td>\n",
       "      <td>0.085588</td>\n",
       "      <td>0.479945</td>\n",
       "      <td>0.044890</td>\n",
       "      <td>0.058215</td>\n",
       "      <td>0.082295</td>\n",
       "      <td>0.359388</td>\n",
       "      <td>0.352066</td>\n",
       "      <td>0.351845</td>\n",
       "      <td>0.113981</td>\n",
       "      <td>0.135663</td>\n",
       "      <td>...</td>\n",
       "      <td>0.017427</td>\n",
       "      <td>0.108078</td>\n",
       "      <td>0.061848</td>\n",
       "      <td>0.076098</td>\n",
       "      <td>0.018243</td>\n",
       "      <td>0.097704</td>\n",
       "      <td>0.001674</td>\n",
       "      <td>0.309663</td>\n",
       "      <td>0.303943</td>\n",
       "      <td>0.005890</td>\n",
       "    </tr>\n",
       "    <tr>\n",
       "      <td>std</td>\n",
       "      <td>0.092972</td>\n",
       "      <td>0.042641</td>\n",
       "      <td>0.019064</td>\n",
       "      <td>0.027513</td>\n",
       "      <td>0.117670</td>\n",
       "      <td>0.217633</td>\n",
       "      <td>0.220435</td>\n",
       "      <td>0.220334</td>\n",
       "      <td>0.052897</td>\n",
       "      <td>0.057327</td>\n",
       "      <td>...</td>\n",
       "      <td>0.017475</td>\n",
       "      <td>0.029268</td>\n",
       "      <td>0.028712</td>\n",
       "      <td>0.055796</td>\n",
       "      <td>0.010964</td>\n",
       "      <td>0.065095</td>\n",
       "      <td>0.011438</td>\n",
       "      <td>0.185105</td>\n",
       "      <td>0.221461</td>\n",
       "      <td>0.023568</td>\n",
       "    </tr>\n",
       "    <tr>\n",
       "      <td>min</td>\n",
       "      <td>0.000000</td>\n",
       "      <td>0.000000</td>\n",
       "      <td>0.000000</td>\n",
       "      <td>0.000000</td>\n",
       "      <td>0.000000</td>\n",
       "      <td>0.000000</td>\n",
       "      <td>0.000000</td>\n",
       "      <td>0.000000</td>\n",
       "      <td>0.000000</td>\n",
       "      <td>0.000000</td>\n",
       "      <td>...</td>\n",
       "      <td>0.000000</td>\n",
       "      <td>0.000000</td>\n",
       "      <td>0.000000</td>\n",
       "      <td>0.000000</td>\n",
       "      <td>0.000000</td>\n",
       "      <td>0.000000</td>\n",
       "      <td>0.000000</td>\n",
       "      <td>0.000000</td>\n",
       "      <td>0.000000</td>\n",
       "      <td>0.000000</td>\n",
       "    </tr>\n",
       "    <tr>\n",
       "      <td>25%</td>\n",
       "      <td>0.027330</td>\n",
       "      <td>0.441718</td>\n",
       "      <td>0.034105</td>\n",
       "      <td>0.037655</td>\n",
       "      <td>0.000000</td>\n",
       "      <td>0.197002</td>\n",
       "      <td>0.189873</td>\n",
       "      <td>0.189873</td>\n",
       "      <td>0.074306</td>\n",
       "      <td>0.082663</td>\n",
       "      <td>...</td>\n",
       "      <td>0.005176</td>\n",
       "      <td>0.089097</td>\n",
       "      <td>0.045402</td>\n",
       "      <td>0.039721</td>\n",
       "      <td>0.011772</td>\n",
       "      <td>0.041667</td>\n",
       "      <td>0.000000</td>\n",
       "      <td>0.172897</td>\n",
       "      <td>0.125000</td>\n",
       "      <td>0.000000</td>\n",
       "    </tr>\n",
       "    <tr>\n",
       "      <td>50%</td>\n",
       "      <td>0.056026</td>\n",
       "      <td>0.471978</td>\n",
       "      <td>0.039924</td>\n",
       "      <td>0.058725</td>\n",
       "      <td>0.000000</td>\n",
       "      <td>0.300000</td>\n",
       "      <td>0.291139</td>\n",
       "      <td>0.291139</td>\n",
       "      <td>0.119726</td>\n",
       "      <td>0.134224</td>\n",
       "      <td>...</td>\n",
       "      <td>0.012486</td>\n",
       "      <td>0.098334</td>\n",
       "      <td>0.051915</td>\n",
       "      <td>0.070697</td>\n",
       "      <td>0.017578</td>\n",
       "      <td>0.083333</td>\n",
       "      <td>0.000000</td>\n",
       "      <td>0.289330</td>\n",
       "      <td>0.250000</td>\n",
       "      <td>0.000000</td>\n",
       "    </tr>\n",
       "    <tr>\n",
       "      <td>75%</td>\n",
       "      <td>0.108227</td>\n",
       "      <td>0.503000</td>\n",
       "      <td>0.049552</td>\n",
       "      <td>0.079346</td>\n",
       "      <td>0.125000</td>\n",
       "      <td>0.500000</td>\n",
       "      <td>0.493671</td>\n",
       "      <td>0.493671</td>\n",
       "      <td>0.159824</td>\n",
       "      <td>0.183780</td>\n",
       "      <td>...</td>\n",
       "      <td>0.024346</td>\n",
       "      <td>0.116647</td>\n",
       "      <td>0.066196</td>\n",
       "      <td>0.101674</td>\n",
       "      <td>0.024044</td>\n",
       "      <td>0.125000</td>\n",
       "      <td>0.000000</td>\n",
       "      <td>0.415888</td>\n",
       "      <td>0.427500</td>\n",
       "      <td>0.000000</td>\n",
       "    </tr>\n",
       "    <tr>\n",
       "      <td>max</td>\n",
       "      <td>1.000000</td>\n",
       "      <td>1.000000</td>\n",
       "      <td>1.000000</td>\n",
       "      <td>1.000000</td>\n",
       "      <td>1.000000</td>\n",
       "      <td>1.000000</td>\n",
       "      <td>1.000000</td>\n",
       "      <td>1.000000</td>\n",
       "      <td>1.000000</td>\n",
       "      <td>1.000000</td>\n",
       "      <td>...</td>\n",
       "      <td>1.000000</td>\n",
       "      <td>1.000000</td>\n",
       "      <td>1.000000</td>\n",
       "      <td>1.000000</td>\n",
       "      <td>1.000000</td>\n",
       "      <td>1.000000</td>\n",
       "      <td>1.000000</td>\n",
       "      <td>1.000000</td>\n",
       "      <td>1.000000</td>\n",
       "      <td>1.000000</td>\n",
       "    </tr>\n",
       "  </tbody>\n",
       "</table>\n",
       "<p>8 rows × 25 columns</p>\n",
       "</div>"
      ],
      "text/plain": [
       "       total_rec_int  mths_since_recent_inq  total_rev_hi_lim     revol_util  \\\n",
       "count  293318.000000          293318.000000     293318.000000  293318.000000   \n",
       "mean        0.085588               0.479945          0.044890       0.058215   \n",
       "std         0.092972               0.042641          0.019064       0.027513   \n",
       "min         0.000000               0.000000          0.000000       0.000000   \n",
       "25%         0.027330               0.441718          0.034105       0.037655   \n",
       "50%         0.056026               0.471978          0.039924       0.058725   \n",
       "75%         0.108227               0.503000          0.049552       0.079346   \n",
       "max         1.000000               1.000000          1.000000       1.000000   \n",
       "\n",
       "       inq_last_6mths  funded_amnt_inv      loan_amnt    funded_amnt  \\\n",
       "count   293318.000000    293318.000000  293318.000000  293318.000000   \n",
       "mean         0.082295         0.359388       0.352066       0.351845   \n",
       "std          0.117670         0.217633       0.220435       0.220334   \n",
       "min          0.000000         0.000000       0.000000       0.000000   \n",
       "25%          0.000000         0.197002       0.189873       0.189873   \n",
       "50%          0.000000         0.300000       0.291139       0.291139   \n",
       "75%          0.125000         0.500000       0.493671       0.493671   \n",
       "max          1.000000         1.000000       1.000000       1.000000   \n",
       "\n",
       "             bc_util  percent_bc_gt_75  ...  tot_hi_cred_lim    avg_cur_bal  \\\n",
       "count  293318.000000     293318.000000  ...    293318.000000  293318.000000   \n",
       "mean        0.113981          0.135663  ...         0.017427       0.108078   \n",
       "std         0.052897          0.057327  ...         0.017475       0.029268   \n",
       "min         0.000000          0.000000  ...         0.000000       0.000000   \n",
       "25%         0.074306          0.082663  ...         0.005176       0.089097   \n",
       "50%         0.119726          0.134224  ...         0.012486       0.098334   \n",
       "75%         0.159824          0.183780  ...         0.024346       0.116647   \n",
       "max         1.000000          1.000000  ...         1.000000       1.000000   \n",
       "\n",
       "       bc_open_to_buy  num_tl_op_past_12m            dti  \\\n",
       "count   293318.000000       293318.000000  293318.000000   \n",
       "mean         0.061848            0.076098       0.018243   \n",
       "std          0.028712            0.055796       0.010964   \n",
       "min          0.000000            0.000000       0.000000   \n",
       "25%          0.045402            0.039721       0.011772   \n",
       "50%          0.051915            0.070697       0.017578   \n",
       "75%          0.066196            0.101674       0.024044   \n",
       "max          1.000000            1.000000       1.000000   \n",
       "\n",
       "       acc_open_past_24mths  total_rec_late_fee       int_rate  \\\n",
       "count         293318.000000       293318.000000  293318.000000   \n",
       "mean               0.097704            0.001674       0.309663   \n",
       "std                0.065095            0.011438       0.185105   \n",
       "min                0.000000            0.000000       0.000000   \n",
       "25%                0.041667            0.000000       0.172897   \n",
       "50%                0.083333            0.000000       0.289330   \n",
       "75%                0.125000            0.000000       0.415888   \n",
       "max                1.000000            1.000000       1.000000   \n",
       "\n",
       "       total_rec_prncp     recoveries  \n",
       "count    293318.000000  293318.000000  \n",
       "mean          0.303943       0.005890  \n",
       "std           0.221461       0.023568  \n",
       "min           0.000000       0.000000  \n",
       "25%           0.125000       0.000000  \n",
       "50%           0.250000       0.000000  \n",
       "75%           0.427500       0.000000  \n",
       "max           1.000000       1.000000  \n",
       "\n",
       "[8 rows x 25 columns]"
      ]
     },
     "execution_count": 54,
     "metadata": {},
     "output_type": "execute_result"
    }
   ],
   "source": [
    "# showing a DESC of the normalized X_train features\n",
    "X_train_mm.describe()\n"
   ]
  },
  {
   "cell_type": "markdown",
   "metadata": {},
   "source": [
    "### Logistic Regression "
   ]
  },
  {
   "cell_type": "code",
   "execution_count": 55,
   "metadata": {},
   "outputs": [],
   "source": [
    "logreg_model_2 = LogisticRegression()\n",
    "logreg_model_2.fit(X_train_mm,y_train)\n",
    "#y_pred_train = logreg_model_2.predict(X_train_mm)\n",
    "y_pred_test = logreg_model_2.predict(X_test_mm)"
   ]
  },
  {
   "cell_type": "code",
   "execution_count": 56,
   "metadata": {},
   "outputs": [
    {
     "data": {
      "text/plain": [
       "0.9904881715811114"
      ]
     },
     "execution_count": 56,
     "metadata": {},
     "output_type": "execute_result"
    }
   ],
   "source": [
    "metrics.accuracy_score(y_test, y_pred_test)"
   ]
  },
  {
   "cell_type": "code",
   "execution_count": 57,
   "metadata": {},
   "outputs": [
    {
     "data": {
      "text/plain": [
       "array([[78127,    14],\n",
       "       [  916, 18716]], dtype=int64)"
      ]
     },
     "execution_count": 57,
     "metadata": {},
     "output_type": "execute_result"
    }
   ],
   "source": [
    "metrics.confusion_matrix(y_test, y_pred_test)"
   ]
  },
  {
   "cell_type": "code",
   "execution_count": 58,
   "metadata": {},
   "outputs": [
    {
     "name": "stdout",
     "output_type": "stream",
     "text": [
      "              precision    recall  f1-score   support\n",
      "\n",
      "           0       0.99      1.00      0.99     78141\n",
      "           1       1.00      0.95      0.98     19632\n",
      "\n",
      "    accuracy                           0.99     97773\n",
      "   macro avg       0.99      0.98      0.98     97773\n",
      "weighted avg       0.99      0.99      0.99     97773\n",
      "\n"
     ]
    }
   ],
   "source": [
    "print(metrics.classification_report(y_test, y_pred_test))"
   ]
  },
  {
   "cell_type": "code",
   "execution_count": 59,
   "metadata": {},
   "outputs": [],
   "source": [
    "y_pred_prob = logreg_model_2.predict_proba(X_test_mm)[:,1]"
   ]
  },
  {
   "cell_type": "code",
   "execution_count": 60,
   "metadata": {},
   "outputs": [
    {
     "data": {
      "text/plain": [
       "0.9985417369570797"
      ]
     },
     "execution_count": 60,
     "metadata": {},
     "output_type": "execute_result"
    }
   ],
   "source": [
    "metrics.roc_auc_score(y_test, y_pred_prob)"
   ]
  },
  {
   "cell_type": "markdown",
   "metadata": {},
   "source": [
    "### Support Vector Machine Classifier"
   ]
  },
  {
   "cell_type": "code",
   "execution_count": 61,
   "metadata": {},
   "outputs": [],
   "source": [
    "#svm_model_2 = SVC(kernel='linear')\n",
    "#svm_model_2.fit(X_train_mm,y_train)\n",
    "#y_pred_train = svm_model_2.predict(X_train_mm)\n",
    "#y_pred_test = svm_model_2.predict(X_test_mm)"
   ]
  },
  {
   "cell_type": "code",
   "execution_count": 62,
   "metadata": {},
   "outputs": [],
   "source": [
    "#metrics.accuracy_score(y_test, y_pred_test)"
   ]
  },
  {
   "cell_type": "code",
   "execution_count": 63,
   "metadata": {},
   "outputs": [],
   "source": [
    "#metrics.confusion_matrix(y_test, y_pred_test)"
   ]
  },
  {
   "cell_type": "code",
   "execution_count": 64,
   "metadata": {},
   "outputs": [],
   "source": [
    "#print(metrics.classification_report(y_test, y_pred_test))"
   ]
  },
  {
   "cell_type": "markdown",
   "metadata": {},
   "source": [
    "### RandomForestClassifier"
   ]
  },
  {
   "cell_type": "code",
   "execution_count": 65,
   "metadata": {},
   "outputs": [],
   "source": [
    "rf_model_2 = RandomForestClassifier()\n",
    "rf_model_2.fit(X_train_mm,y_train)\n",
    "#y_pred_train = rf_model_2.predict(X_train_mm)\n",
    "y_pred_test = rf_model_2.predict(X_test_mm)"
   ]
  },
  {
   "cell_type": "code",
   "execution_count": 66,
   "metadata": {},
   "outputs": [
    {
     "data": {
      "text/plain": [
       "0.9960418520450431"
      ]
     },
     "execution_count": 66,
     "metadata": {},
     "output_type": "execute_result"
    }
   ],
   "source": [
    "metrics.accuracy_score(y_test, y_pred_test)"
   ]
  },
  {
   "cell_type": "code",
   "execution_count": 67,
   "metadata": {},
   "outputs": [
    {
     "data": {
      "text/plain": [
       "array([[78138,     3],\n",
       "       [  384, 19248]], dtype=int64)"
      ]
     },
     "execution_count": 67,
     "metadata": {},
     "output_type": "execute_result"
    }
   ],
   "source": [
    "metrics.confusion_matrix(y_test, y_pred_test)"
   ]
  },
  {
   "cell_type": "code",
   "execution_count": 68,
   "metadata": {},
   "outputs": [
    {
     "name": "stdout",
     "output_type": "stream",
     "text": [
      "              precision    recall  f1-score   support\n",
      "\n",
      "           0       1.00      1.00      1.00     78141\n",
      "           1       1.00      0.98      0.99     19632\n",
      "\n",
      "    accuracy                           1.00     97773\n",
      "   macro avg       1.00      0.99      0.99     97773\n",
      "weighted avg       1.00      1.00      1.00     97773\n",
      "\n"
     ]
    }
   ],
   "source": [
    "print(metrics.classification_report(y_test, y_pred_test))"
   ]
  },
  {
   "cell_type": "code",
   "execution_count": 69,
   "metadata": {},
   "outputs": [
    {
     "data": {
      "text/plain": [
       "0.9988049166357135"
      ]
     },
     "execution_count": 69,
     "metadata": {},
     "output_type": "execute_result"
    }
   ],
   "source": [
    "y_pred_prob = rf_model_2.predict_proba(X_test_mm)[:,1]\n",
    "metrics.roc_auc_score(y_test, y_pred_prob)"
   ]
  },
  {
   "cell_type": "markdown",
   "metadata": {},
   "source": [
    "### StandardScaler"
   ]
  },
  {
   "cell_type": "code",
   "execution_count": 70,
   "metadata": {},
   "outputs": [],
   "source": [
    "sc = StandardScaler()\n",
    "\n",
    "X_train_sc = sc.fit_transform(X_train)\n",
    "X_train_sc = pd.DataFrame(X_train_sc, columns=feature_names)\n",
    "X_test_sc = sc.transform(X_test)\n",
    "X_test_sc = pd.DataFrame(X_test_sc, columns=feature_names)"
   ]
  },
  {
   "cell_type": "code",
   "execution_count": 71,
   "metadata": {},
   "outputs": [
    {
     "data": {
      "text/html": [
       "<div>\n",
       "<style scoped>\n",
       "    .dataframe tbody tr th:only-of-type {\n",
       "        vertical-align: middle;\n",
       "    }\n",
       "\n",
       "    .dataframe tbody tr th {\n",
       "        vertical-align: top;\n",
       "    }\n",
       "\n",
       "    .dataframe thead th {\n",
       "        text-align: right;\n",
       "    }\n",
       "</style>\n",
       "<table border=\"1\" class=\"dataframe\">\n",
       "  <thead>\n",
       "    <tr style=\"text-align: right;\">\n",
       "      <th></th>\n",
       "      <th>total_rec_int</th>\n",
       "      <th>mths_since_recent_inq</th>\n",
       "      <th>total_rev_hi_lim</th>\n",
       "      <th>revol_util</th>\n",
       "      <th>inq_last_6mths</th>\n",
       "      <th>funded_amnt_inv</th>\n",
       "      <th>loan_amnt</th>\n",
       "      <th>funded_amnt</th>\n",
       "      <th>bc_util</th>\n",
       "      <th>percent_bc_gt_75</th>\n",
       "      <th>...</th>\n",
       "      <th>tot_hi_cred_lim</th>\n",
       "      <th>avg_cur_bal</th>\n",
       "      <th>bc_open_to_buy</th>\n",
       "      <th>num_tl_op_past_12m</th>\n",
       "      <th>dti</th>\n",
       "      <th>acc_open_past_24mths</th>\n",
       "      <th>total_rec_late_fee</th>\n",
       "      <th>int_rate</th>\n",
       "      <th>total_rec_prncp</th>\n",
       "      <th>recoveries</th>\n",
       "    </tr>\n",
       "  </thead>\n",
       "  <tbody>\n",
       "    <tr>\n",
       "      <td>count</td>\n",
       "      <td>2.933180e+05</td>\n",
       "      <td>2.933180e+05</td>\n",
       "      <td>2.933180e+05</td>\n",
       "      <td>2.933180e+05</td>\n",
       "      <td>2.933180e+05</td>\n",
       "      <td>2.933180e+05</td>\n",
       "      <td>2.933180e+05</td>\n",
       "      <td>2.933180e+05</td>\n",
       "      <td>2.933180e+05</td>\n",
       "      <td>2.933180e+05</td>\n",
       "      <td>...</td>\n",
       "      <td>2.933180e+05</td>\n",
       "      <td>2.933180e+05</td>\n",
       "      <td>2.933180e+05</td>\n",
       "      <td>2.933180e+05</td>\n",
       "      <td>2.933180e+05</td>\n",
       "      <td>2.933180e+05</td>\n",
       "      <td>2.933180e+05</td>\n",
       "      <td>2.933180e+05</td>\n",
       "      <td>2.933180e+05</td>\n",
       "      <td>2.933180e+05</td>\n",
       "    </tr>\n",
       "    <tr>\n",
       "      <td>mean</td>\n",
       "      <td>-3.701210e-17</td>\n",
       "      <td>5.978530e-16</td>\n",
       "      <td>-3.457116e-16</td>\n",
       "      <td>-4.971162e-16</td>\n",
       "      <td>3.053184e-15</td>\n",
       "      <td>-6.609218e-16</td>\n",
       "      <td>-4.410744e-16</td>\n",
       "      <td>-2.869472e-16</td>\n",
       "      <td>-1.086332e-16</td>\n",
       "      <td>-6.892476e-16</td>\n",
       "      <td>...</td>\n",
       "      <td>1.358238e-16</td>\n",
       "      <td>3.307573e-16</td>\n",
       "      <td>1.058413e-16</td>\n",
       "      <td>-1.640535e-16</td>\n",
       "      <td>3.144518e-16</td>\n",
       "      <td>-3.789752e-16</td>\n",
       "      <td>8.136936e-15</td>\n",
       "      <td>7.061707e-16</td>\n",
       "      <td>1.407266e-15</td>\n",
       "      <td>-3.813436e-15</td>\n",
       "    </tr>\n",
       "    <tr>\n",
       "      <td>std</td>\n",
       "      <td>1.000002e+00</td>\n",
       "      <td>1.000002e+00</td>\n",
       "      <td>1.000002e+00</td>\n",
       "      <td>1.000002e+00</td>\n",
       "      <td>1.000002e+00</td>\n",
       "      <td>1.000002e+00</td>\n",
       "      <td>1.000002e+00</td>\n",
       "      <td>1.000002e+00</td>\n",
       "      <td>1.000002e+00</td>\n",
       "      <td>1.000002e+00</td>\n",
       "      <td>...</td>\n",
       "      <td>1.000002e+00</td>\n",
       "      <td>1.000002e+00</td>\n",
       "      <td>1.000002e+00</td>\n",
       "      <td>1.000002e+00</td>\n",
       "      <td>1.000002e+00</td>\n",
       "      <td>1.000002e+00</td>\n",
       "      <td>1.000002e+00</td>\n",
       "      <td>1.000002e+00</td>\n",
       "      <td>1.000002e+00</td>\n",
       "      <td>1.000002e+00</td>\n",
       "    </tr>\n",
       "    <tr>\n",
       "      <td>min</td>\n",
       "      <td>-9.205741e-01</td>\n",
       "      <td>-1.125543e+01</td>\n",
       "      <td>-2.354718e+00</td>\n",
       "      <td>-2.115922e+00</td>\n",
       "      <td>-6.993685e-01</td>\n",
       "      <td>-1.651352e+00</td>\n",
       "      <td>-1.597143e+00</td>\n",
       "      <td>-1.596876e+00</td>\n",
       "      <td>-2.154781e+00</td>\n",
       "      <td>-2.366496e+00</td>\n",
       "      <td>...</td>\n",
       "      <td>-9.972202e-01</td>\n",
       "      <td>-3.692712e+00</td>\n",
       "      <td>-2.154073e+00</td>\n",
       "      <td>-1.363863e+00</td>\n",
       "      <td>-1.663847e+00</td>\n",
       "      <td>-1.500951e+00</td>\n",
       "      <td>-1.463648e-01</td>\n",
       "      <td>-1.672911e+00</td>\n",
       "      <td>-1.372447e+00</td>\n",
       "      <td>-2.499192e-01</td>\n",
       "    </tr>\n",
       "    <tr>\n",
       "      <td>25%</td>\n",
       "      <td>-6.266142e-01</td>\n",
       "      <td>-8.964707e-01</td>\n",
       "      <td>-5.657043e-01</td>\n",
       "      <td>-7.472734e-01</td>\n",
       "      <td>-6.993685e-01</td>\n",
       "      <td>-7.461467e-01</td>\n",
       "      <td>-7.357845e-01</td>\n",
       "      <td>-7.351210e-01</td>\n",
       "      <td>-7.500416e-01</td>\n",
       "      <td>-9.245303e-01</td>\n",
       "      <td>...</td>\n",
       "      <td>-7.010160e-01</td>\n",
       "      <td>-6.485209e-01</td>\n",
       "      <td>-5.728062e-01</td>\n",
       "      <td>-6.519670e-01</td>\n",
       "      <td>-5.901931e-01</td>\n",
       "      <td>-8.608603e-01</td>\n",
       "      <td>-1.463648e-01</td>\n",
       "      <td>-7.388587e-01</td>\n",
       "      <td>-8.080128e-01</td>\n",
       "      <td>-2.499192e-01</td>\n",
       "    </tr>\n",
       "    <tr>\n",
       "      <td>50%</td>\n",
       "      <td>-3.179639e-01</td>\n",
       "      <td>-1.868477e-01</td>\n",
       "      <td>-2.604941e-01</td>\n",
       "      <td>1.851786e-02</td>\n",
       "      <td>-6.993685e-01</td>\n",
       "      <td>-2.728832e-01</td>\n",
       "      <td>-2.763934e-01</td>\n",
       "      <td>-2.755184e-01</td>\n",
       "      <td>1.086098e-01</td>\n",
       "      <td>-2.509078e-02</td>\n",
       "      <td>...</td>\n",
       "      <td>-2.827291e-01</td>\n",
       "      <td>-3.329124e-01</td>\n",
       "      <td>-3.459544e-01</td>\n",
       "      <td>-9.678416e-02</td>\n",
       "      <td>-6.067008e-02</td>\n",
       "      <td>-2.207700e-01</td>\n",
       "      <td>-1.463648e-01</td>\n",
       "      <td>-1.098456e-01</td>\n",
       "      <td>-2.435781e-01</td>\n",
       "      <td>-2.499192e-01</td>\n",
       "    </tr>\n",
       "    <tr>\n",
       "      <td>75%</td>\n",
       "      <td>2.435037e-01</td>\n",
       "      <td>5.406825e-01</td>\n",
       "      <td>2.445747e-01</td>\n",
       "      <td>7.680157e-01</td>\n",
       "      <td>3.629250e-01</td>\n",
       "      <td>6.460963e-01</td>\n",
       "      <td>6.423890e-01</td>\n",
       "      <td>6.436869e-01</td>\n",
       "      <td>8.666660e-01</td>\n",
       "      <td>8.393503e-01</td>\n",
       "      <td>...</td>\n",
       "      <td>3.959604e-01</td>\n",
       "      <td>2.927631e-01</td>\n",
       "      <td>1.514402e-01</td>\n",
       "      <td>4.583986e-01</td>\n",
       "      <td>5.291090e-01</td>\n",
       "      <td>4.193203e-01</td>\n",
       "      <td>-1.463648e-01</td>\n",
       "      <td>5.738642e-01</td>\n",
       "      <td>5.579190e-01</td>\n",
       "      <td>-2.499192e-01</td>\n",
       "    </tr>\n",
       "    <tr>\n",
       "      <td>max</td>\n",
       "      <td>9.835355e+00</td>\n",
       "      <td>1.219606e+01</td>\n",
       "      <td>5.010078e+01</td>\n",
       "      <td>3.423065e+01</td>\n",
       "      <td>7.798979e+00</td>\n",
       "      <td>2.943545e+00</td>\n",
       "      <td>2.939345e+00</td>\n",
       "      <td>2.941700e+00</td>\n",
       "      <td>1.675001e+01</td>\n",
       "      <td>1.507746e+01</td>\n",
       "      <td>...</td>\n",
       "      <td>5.622592e+01</td>\n",
       "      <td>3.047437e+01</td>\n",
       "      <td>3.267432e+01</td>\n",
       "      <td>1.655870e+01</td>\n",
       "      <td>8.954192e+01</td>\n",
       "      <td>1.386122e+01</td>\n",
       "      <td>8.727897e+01</td>\n",
       "      <td>3.729448e+00</td>\n",
       "      <td>3.143030e+00</td>\n",
       "      <td>4.218017e+01</td>\n",
       "    </tr>\n",
       "  </tbody>\n",
       "</table>\n",
       "<p>8 rows × 25 columns</p>\n",
       "</div>"
      ],
      "text/plain": [
       "       total_rec_int  mths_since_recent_inq  total_rev_hi_lim    revol_util  \\\n",
       "count   2.933180e+05           2.933180e+05      2.933180e+05  2.933180e+05   \n",
       "mean   -3.701210e-17           5.978530e-16     -3.457116e-16 -4.971162e-16   \n",
       "std     1.000002e+00           1.000002e+00      1.000002e+00  1.000002e+00   \n",
       "min    -9.205741e-01          -1.125543e+01     -2.354718e+00 -2.115922e+00   \n",
       "25%    -6.266142e-01          -8.964707e-01     -5.657043e-01 -7.472734e-01   \n",
       "50%    -3.179639e-01          -1.868477e-01     -2.604941e-01  1.851786e-02   \n",
       "75%     2.435037e-01           5.406825e-01      2.445747e-01  7.680157e-01   \n",
       "max     9.835355e+00           1.219606e+01      5.010078e+01  3.423065e+01   \n",
       "\n",
       "       inq_last_6mths  funded_amnt_inv     loan_amnt   funded_amnt  \\\n",
       "count    2.933180e+05     2.933180e+05  2.933180e+05  2.933180e+05   \n",
       "mean     3.053184e-15    -6.609218e-16 -4.410744e-16 -2.869472e-16   \n",
       "std      1.000002e+00     1.000002e+00  1.000002e+00  1.000002e+00   \n",
       "min     -6.993685e-01    -1.651352e+00 -1.597143e+00 -1.596876e+00   \n",
       "25%     -6.993685e-01    -7.461467e-01 -7.357845e-01 -7.351210e-01   \n",
       "50%     -6.993685e-01    -2.728832e-01 -2.763934e-01 -2.755184e-01   \n",
       "75%      3.629250e-01     6.460963e-01  6.423890e-01  6.436869e-01   \n",
       "max      7.798979e+00     2.943545e+00  2.939345e+00  2.941700e+00   \n",
       "\n",
       "            bc_util  percent_bc_gt_75  ...  tot_hi_cred_lim   avg_cur_bal  \\\n",
       "count  2.933180e+05      2.933180e+05  ...     2.933180e+05  2.933180e+05   \n",
       "mean  -1.086332e-16     -6.892476e-16  ...     1.358238e-16  3.307573e-16   \n",
       "std    1.000002e+00      1.000002e+00  ...     1.000002e+00  1.000002e+00   \n",
       "min   -2.154781e+00     -2.366496e+00  ...    -9.972202e-01 -3.692712e+00   \n",
       "25%   -7.500416e-01     -9.245303e-01  ...    -7.010160e-01 -6.485209e-01   \n",
       "50%    1.086098e-01     -2.509078e-02  ...    -2.827291e-01 -3.329124e-01   \n",
       "75%    8.666660e-01      8.393503e-01  ...     3.959604e-01  2.927631e-01   \n",
       "max    1.675001e+01      1.507746e+01  ...     5.622592e+01  3.047437e+01   \n",
       "\n",
       "       bc_open_to_buy  num_tl_op_past_12m           dti  acc_open_past_24mths  \\\n",
       "count    2.933180e+05        2.933180e+05  2.933180e+05          2.933180e+05   \n",
       "mean     1.058413e-16       -1.640535e-16  3.144518e-16         -3.789752e-16   \n",
       "std      1.000002e+00        1.000002e+00  1.000002e+00          1.000002e+00   \n",
       "min     -2.154073e+00       -1.363863e+00 -1.663847e+00         -1.500951e+00   \n",
       "25%     -5.728062e-01       -6.519670e-01 -5.901931e-01         -8.608603e-01   \n",
       "50%     -3.459544e-01       -9.678416e-02 -6.067008e-02         -2.207700e-01   \n",
       "75%      1.514402e-01        4.583986e-01  5.291090e-01          4.193203e-01   \n",
       "max      3.267432e+01        1.655870e+01  8.954192e+01          1.386122e+01   \n",
       "\n",
       "       total_rec_late_fee      int_rate  total_rec_prncp    recoveries  \n",
       "count        2.933180e+05  2.933180e+05     2.933180e+05  2.933180e+05  \n",
       "mean         8.136936e-15  7.061707e-16     1.407266e-15 -3.813436e-15  \n",
       "std          1.000002e+00  1.000002e+00     1.000002e+00  1.000002e+00  \n",
       "min         -1.463648e-01 -1.672911e+00    -1.372447e+00 -2.499192e-01  \n",
       "25%         -1.463648e-01 -7.388587e-01    -8.080128e-01 -2.499192e-01  \n",
       "50%         -1.463648e-01 -1.098456e-01    -2.435781e-01 -2.499192e-01  \n",
       "75%         -1.463648e-01  5.738642e-01     5.579190e-01 -2.499192e-01  \n",
       "max          8.727897e+01  3.729448e+00     3.143030e+00  4.218017e+01  \n",
       "\n",
       "[8 rows x 25 columns]"
      ]
     },
     "execution_count": 71,
     "metadata": {},
     "output_type": "execute_result"
    }
   ],
   "source": [
    "X_train_sc.describe()"
   ]
  },
  {
   "cell_type": "markdown",
   "metadata": {},
   "source": [
    "### Logistic Regression "
   ]
  },
  {
   "cell_type": "code",
   "execution_count": 72,
   "metadata": {},
   "outputs": [],
   "source": [
    "logreg_model_3 = LogisticRegression()\n",
    "logreg_model_3.fit(X_train_sc,y_train)\n",
    "#y_pred_train = logreg_model_3.predict(X_train_sc)\n",
    "y_pred_test = logreg_model_3.predict(X_test_sc)"
   ]
  },
  {
   "cell_type": "code",
   "execution_count": 73,
   "metadata": {},
   "outputs": [],
   "source": [
    "logreg_model_3 = LogisticRegression()\n",
    "logreg_model_3.fit(X_train_sc,y_train)\n",
    "#y_pred_train = logreg_model_3.predict(X_train_sc)\n",
    "y_pred_test = logreg_model_3.predict(X_test_sc)"
   ]
  },
  {
   "cell_type": "code",
   "execution_count": 74,
   "metadata": {},
   "outputs": [
    {
     "data": {
      "text/plain": [
       "0.9968703016170108"
      ]
     },
     "execution_count": 74,
     "metadata": {},
     "output_type": "execute_result"
    }
   ],
   "source": [
    "metrics.accuracy_score(y_test, y_pred_test)"
   ]
  },
  {
   "cell_type": "code",
   "execution_count": 75,
   "metadata": {},
   "outputs": [
    {
     "data": {
      "text/plain": [
       "array([[78135,     6],\n",
       "       [  300, 19332]], dtype=int64)"
      ]
     },
     "execution_count": 75,
     "metadata": {},
     "output_type": "execute_result"
    }
   ],
   "source": [
    "metrics.confusion_matrix(y_test, y_pred_test)"
   ]
  },
  {
   "cell_type": "code",
   "execution_count": 76,
   "metadata": {},
   "outputs": [
    {
     "name": "stdout",
     "output_type": "stream",
     "text": [
      "              precision    recall  f1-score   support\n",
      "\n",
      "           0       1.00      1.00      1.00     78141\n",
      "           1       1.00      0.98      0.99     19632\n",
      "\n",
      "    accuracy                           1.00     97773\n",
      "   macro avg       1.00      0.99      1.00     97773\n",
      "weighted avg       1.00      1.00      1.00     97773\n",
      "\n"
     ]
    }
   ],
   "source": [
    "print(metrics.classification_report(y_test, y_pred_test))"
   ]
  },
  {
   "cell_type": "code",
   "execution_count": 77,
   "metadata": {},
   "outputs": [],
   "source": [
    "y_pred_prob = logreg_model_3.predict_proba(X_test_sc)[:,1]"
   ]
  },
  {
   "cell_type": "code",
   "execution_count": 78,
   "metadata": {},
   "outputs": [
    {
     "data": {
      "text/plain": [
       "0.9995606617776089"
      ]
     },
     "execution_count": 78,
     "metadata": {},
     "output_type": "execute_result"
    }
   ],
   "source": [
    "metrics.roc_auc_score(y_test, y_pred_prob)"
   ]
  },
  {
   "cell_type": "markdown",
   "metadata": {},
   "source": [
    "### Support Vector Machine Classifier"
   ]
  },
  {
   "cell_type": "code",
   "execution_count": 79,
   "metadata": {},
   "outputs": [],
   "source": [
    "#svm_model_3 = SVC(kernel='linear')\n",
    "#svm_model_3.fit(X_train_mm,y_train)\n",
    "#y_pred_train = svm_model_3.predict(X_train_sc)\n",
    "#y_pred_test = svm_model_3.predict(X_test_sc)"
   ]
  },
  {
   "cell_type": "code",
   "execution_count": 80,
   "metadata": {},
   "outputs": [],
   "source": [
    "#metrics.accuracy_score(y_test, y_pred_test)"
   ]
  },
  {
   "cell_type": "code",
   "execution_count": 81,
   "metadata": {},
   "outputs": [],
   "source": [
    "#metrics.confusion_matrix(y_test, y_pred_test)"
   ]
  },
  {
   "cell_type": "code",
   "execution_count": 82,
   "metadata": {},
   "outputs": [],
   "source": [
    "#print(metrics.classification_report(y_test, y_pred_test))"
   ]
  },
  {
   "cell_type": "markdown",
   "metadata": {},
   "source": [
    "### RandomForestClassifier"
   ]
  },
  {
   "cell_type": "code",
   "execution_count": 83,
   "metadata": {},
   "outputs": [],
   "source": [
    "rf_model_3 = RandomForestClassifier()\n",
    "rf_model_3.fit(X_train_sc,y_train)\n",
    "#y_pred_train = rf_model_3.predict(X_train_sc)\n",
    "y_pred_test = rf_model_3.predict(X_test_sc)"
   ]
  },
  {
   "cell_type": "code",
   "execution_count": 84,
   "metadata": {},
   "outputs": [
    {
     "data": {
      "text/plain": [
       "0.9958168410501876"
      ]
     },
     "execution_count": 84,
     "metadata": {},
     "output_type": "execute_result"
    }
   ],
   "source": [
    "metrics.accuracy_score(y_test, y_pred_test)"
   ]
  },
  {
   "cell_type": "code",
   "execution_count": 85,
   "metadata": {},
   "outputs": [
    {
     "data": {
      "text/plain": [
       "array([[78140,     1],\n",
       "       [  408, 19224]], dtype=int64)"
      ]
     },
     "execution_count": 85,
     "metadata": {},
     "output_type": "execute_result"
    }
   ],
   "source": [
    "metrics.confusion_matrix(y_test, y_pred_test)"
   ]
  },
  {
   "cell_type": "code",
   "execution_count": 86,
   "metadata": {},
   "outputs": [
    {
     "name": "stdout",
     "output_type": "stream",
     "text": [
      "              precision    recall  f1-score   support\n",
      "\n",
      "           0       0.99      1.00      1.00     78141\n",
      "           1       1.00      0.98      0.99     19632\n",
      "\n",
      "    accuracy                           1.00     97773\n",
      "   macro avg       1.00      0.99      0.99     97773\n",
      "weighted avg       1.00      1.00      1.00     97773\n",
      "\n"
     ]
    }
   ],
   "source": [
    "print(metrics.classification_report(y_test, y_pred_test))"
   ]
  },
  {
   "cell_type": "code",
   "execution_count": 87,
   "metadata": {},
   "outputs": [
    {
     "data": {
      "text/plain": [
       "0.9990282016322927"
      ]
     },
     "execution_count": 87,
     "metadata": {},
     "output_type": "execute_result"
    }
   ],
   "source": [
    "y_pred_prob = rf_model_3.predict_proba(X_test_sc)[:,1]\n",
    "metrics.roc_auc_score(y_test, y_pred_prob)"
   ]
  }
 ],
 "metadata": {
  "kernelspec": {
   "display_name": "Python 3",
   "language": "python",
   "name": "python3"
  },
  "language_info": {
   "codemirror_mode": {
    "name": "ipython",
    "version": 3
   },
   "file_extension": ".py",
   "mimetype": "text/x-python",
   "name": "python",
   "nbconvert_exporter": "python",
   "pygments_lexer": "ipython3",
   "version": "3.7.4"
  }
 },
 "nbformat": 4,
 "nbformat_minor": 4
}
